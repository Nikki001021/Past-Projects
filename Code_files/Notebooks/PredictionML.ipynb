{
  "nbformat": 4,
  "nbformat_minor": 2,
  "metadata": {
    "language_info": {
      "name": "python"
    },
    "kernelspec": {
      "name": "synapse_pyspark",
      "display_name": "python"
    },
    "description": null,
    "save_output": true,
    "synapse_widget": {
      "version": "0.1",
      "state": {}
    }
  },
  "cells": [
    {
      "cell_type": "code",
      "execution_count": 1,
      "outputs": [
        {
          "output_type": "display_data",
          "data": {
            "application/vnd.livy.statement-meta+json": {
              "spark_pool": "stockPredict",
              "statement_id": 2,
              "statement_ids": [
                2
              ],
              "state": "finished",
              "livy_statement_state": "available",
              "spark_jobs": null,
              "session_id": "23",
              "normalized_state": "finished",
              "queued_time": "2025-05-04T00:22:27.2960352Z",
              "session_start_time": "2025-05-04T00:22:27.2969774Z",
              "execution_start_time": "2025-05-04T00:26:16.9284001Z",
              "execution_finish_time": "2025-05-04T00:26:27.3504222Z",
              "parent_msg_id": "feca7a92-ec89-44f2-9a49-f9073e837267"
            },
            "text/plain": "StatementMeta(stockPredict, 23, 2, Finished, Available, Finished)"
          },
          "metadata": {}
        },
        {
          "output_type": "stream",
          "name": "stdout",
          "text": [
            "root\n |-- user_id: string (nullable = true)\n |-- tweet_created_at_date: date (nullable = true)\n |-- is_blue_verified: boolean (nullable = true)\n |-- account_created_at: date (nullable = true)\n |-- followers_count: integer (nullable = true)\n |-- friends_count: integer (nullable = true)\n |-- account_favourites_count: integer (nullable = true)\n |-- listed_count: integer (nullable = true)\n |-- media_count: integer (nullable = true)\n |-- account_possibly_sensitive: boolean (nullable = true)\n |-- rest_id: string (nullable = true)\n |-- tweet_created_at_time: string (nullable = true)\n |-- view_count: string (nullable = true)\n |-- retweet_count: integer (nullable = true)\n |-- reply_count: integer (nullable = true)\n |-- quote_count: integer (nullable = true)\n |-- favorite_count: integer (nullable = true)\n |-- tweet_possibly_sensitive: boolean (nullable = true)\n |-- full_text: string (nullable = true)\n |-- sentiment_score: double (nullable = true)\n |-- interaction_score: double (nullable = true)\n |-- favorite_ratio: double (nullable = true)\n |-- reply_ratio: double (nullable = true)\n |-- account_age_days: integer (nullable = true)\n |-- credibility_score: double (nullable = true)\n |-- follower_activity_score: double (nullable = true)\n |-- day_of_week: string (nullable = true)\n |-- is_viral: boolean (nullable = true)\n |-- is_new_account: boolean (nullable = true)\n |-- is_influencer: boolean (nullable = true)\n |-- current_volume: integer (nullable = true)\n |-- current_open: double (nullable = true)\n |-- current_close: double (nullable = true)\n |-- current_high: double (nullable = true)\n |-- current_low: double (nullable = true)\n |-- next_available_volume: integer (nullable = true)\n\n"
          ]
        }
      ],
      "metadata": {},
      "source": [
        "# Set up the configuration for accessing the storage account\n",
        "storage_account_name = \"team12storage\"\n",
        "storage_account_key = \"ZdpCqxRwuQbJ8fUYN7EMbTLjOyj+I9rI6IjcQ/uU+4aFG46TQqjiz1Piq9SWKGkkjszo3r94l26M+AStR5PvPg==\"\n",
        "\n",
        "spark.conf.set(\n",
        "    \"fs.azure.account.key.\" + storage_account_name + \".dfs.core.windows.net\",\n",
        "    storage_account_key\n",
        ")\n",
        "container = \"team12blobcontainer\"\n",
        "abfss_base_path = f\"abfss://{container}@{storage_account_name}.dfs.core.windows.net/\"\n",
        "df = spark.read.parquet(f\"{abfss_base_path}Medallion/Gold/dataset_updated/*\")\n",
        "df.printSchema()"
      ]
    },
    {
      "cell_type": "code",
      "execution_count": 2,
      "outputs": [
        {
          "output_type": "display_data",
          "data": {
            "application/vnd.livy.statement-meta+json": {
              "spark_pool": "stockPredict",
              "statement_id": 3,
              "statement_ids": [
                3
              ],
              "state": "finished",
              "livy_statement_state": "available",
              "spark_jobs": null,
              "session_id": "23",
              "normalized_state": "finished",
              "queued_time": "2025-05-04T00:26:34.7698328Z",
              "session_start_time": null,
              "execution_start_time": "2025-05-04T00:26:34.7710415Z",
              "execution_finish_time": "2025-05-04T00:26:42.0368368Z",
              "parent_msg_id": "aa492264-2872-449b-b005-255ee2b97a44"
            },
            "text/plain": "StatementMeta(stockPredict, 23, 3, Finished, Available, Finished)"
          },
          "metadata": {}
        },
        {
          "output_type": "execute_result",
          "data": {
            "text/plain": "41864"
          },
          "execution_count": 7,
          "metadata": {}
        }
      ],
      "metadata": {},
      "source": [
        "from pyspark.sql.functions import col\n",
        "df = df.filter(col(\"current_volume\").isNotNull())\n",
        "df.count()"
      ]
    },
    {
      "cell_type": "code",
      "execution_count": 3,
      "outputs": [
        {
          "output_type": "display_data",
          "data": {
            "application/vnd.livy.statement-meta+json": {
              "spark_pool": "stockPredict",
              "statement_id": 4,
              "statement_ids": [
                4
              ],
              "state": "finished",
              "livy_statement_state": "available",
              "spark_jobs": null,
              "session_id": "23",
              "normalized_state": "finished",
              "queued_time": "2025-05-04T00:26:47.5978147Z",
              "session_start_time": null,
              "execution_start_time": "2025-05-04T00:26:47.5991422Z",
              "execution_finish_time": "2025-05-04T00:27:04.3544892Z",
              "parent_msg_id": "fb36a673-b1ca-4d10-b7b1-6965a7a4b1d2"
            },
            "text/plain": "StatementMeta(stockPredict, 23, 4, Finished, Available, Finished)"
          },
          "metadata": {}
        },
        {
          "output_type": "stream",
          "name": "stdout",
          "text": [
            "+-------------------------------------------------------------------------------------------------------------------------------------------------------------------------------------------------------------------------------------------------------------------------------------------------------------------------------------------------------------------------------------------------------------------------------------------------+---------------------+\n|scaled_features                                                                                                                                                                                                                                                                                                                                                                                                                                  |next_available_volume|\n+-------------------------------------------------------------------------------------------------------------------------------------------------------------------------------------------------------------------------------------------------------------------------------------------------------------------------------------------------------------------------------------------------------------------------------------------------+---------------------+\n|[0.0,0.08992142602554948,0.04619270511848422,0.47231853223164305,0.015055404117803078,0.25575937893458695,0.022701421726531324,0.04626249699422841,0.1832330686005465,3.120029949336941,4.042752963171209,0.06018051395481266,3.3558607746012,3.3913989944642124,3.3426201761021708,3.3468628939100893,4.155684654065527,0.0,2.2925406655845597,0.0,0.0,4.17575703371282,4.055738710539412,2.271161890389763,2.277855206966433]                  |602318000            |\n|[0.0,0.08992142602554948,0.04619270511848422,0.47231853223164305,0.015055404117803078,0.25575937893458695,0.022701421726531324,0.04626249699422841,0.1832330686005465,3.120029949336941,4.042752963171209,0.06018051395481266,3.3558607746012,3.3913989944642124,3.3426201761021708,3.3468628939100893,4.155684654065527,0.0,2.2925406655845597,0.0,0.0,4.17575703371282,4.055738710539412,2.271161890389763,2.277855206966433]                  |602318000            |\n|[-1.0598674487956532,0.09100918521134241,0.04563444187100332,0.47231853223164305,0.015055404117803078,0.25575937893458695,0.022701421726531324,0.04626249699422841,0.1832330686005465,3.120029949336941,4.042752963171209,0.06018051395481266,3.3319414404761374,3.205462889665499,3.3108392960277584,3.2501675858906385,2.8433858919915305,0.0,0.0,2.319055131985078,0.0,4.17575703371282,4.055738710539412,2.271161890389763,2.277855206966433]|399678000            |\n|[-1.0105829837982752,0.455352729929628,0.027128463724481616,0.0,0.015055404117803078,0.25575937893458695,0.022701421726531324,0.04626249699422841,0.1832330686005465,3.120029949336941,4.042752963171209,0.06018051395481266,3.3319414404761374,3.205462889665499,3.3108392960277584,3.2501675858906385,2.8433858919915305,0.0,0.0,2.319055131985078,0.0,4.17575703371282,4.055738710539412,2.271161890389763,2.277855206966433]                 |399678000            |\n|[-1.473253471528762,0.04733147021257986,0.0,0.0,0.015055404117803078,0.25575937893458695,0.022701421726531324,0.04626249699422841,0.1832330686005465,3.120029949336941,4.042752963171209,0.06018051395481266,3.3319414404761374,3.205462889665499,3.3108392960277584,3.2501675858906385,2.8433858919915305,0.0,0.0,2.319055131985078,0.0,4.17575703371282,4.055738710539412,2.271161890389763,2.277855206966433]                                 |399678000            |\n|[0.0,0.0734934731939587,0.11310471883082006,0.0,0.01505054126117588,0.2556200005264482,0.022701421726531324,0.04626249699422841,0.1832330686005465,3.120029949336941,4.042698600530935,0.06018051395481266,3.334595395916875,3.3731527551100164,3.32413649768175,3.350420701762531,1.8936512712335627,0.0,0.0,0.0,2.3496788222985607,4.17575703371282,4.055738710539412,2.271161890389763,2.277855206966433]                                     |296507000            |\n|[0.0,0.04016341609081614,0.0,0.0,0.01505054126117588,0.2556200005264482,0.022701421726531324,0.04626249699422841,0.1832330686005465,3.120029949336941,4.042698600530935,0.06018051395481266,3.334595395916875,3.3731527551100164,3.32413649768175,3.350420701762531,1.8936512712335627,0.0,0.0,0.0,2.3496788222985607,4.17575703371282,4.055738710539412,2.271161890389763,2.277855206966433]                                                    |296507000            |\n|[0.0,0.0734934731939587,0.11310471883082006,0.0,0.01505054126117588,0.2556200005264482,0.022701421726531324,0.04626249699422841,0.1832330686005465,3.120029949336941,4.042698600530935,0.06018051395481266,3.334595395916875,3.3731527551100164,3.32413649768175,3.350420701762531,1.8936512712335627,0.0,0.0,0.0,2.3496788222985607,4.17575703371282,4.055738710539412,2.271161890389763,2.277855206966433]                                     |296507000            |\n|[0.0,0.04016341609081614,0.0,0.0,0.01505054126117588,0.2556200005264482,0.022701421726531324,0.04626249699422841,0.1832330686005465,3.120029949336941,4.042698600530935,0.06018051395481266,3.334595395916875,3.3731527551100164,3.32413649768175,3.350420701762531,1.8936512712335627,0.0,0.0,0.0,2.3496788222985607,4.17575703371282,4.055738710539412,2.271161890389763,2.277855206966433]                                                    |296507000            |\n|[-0.8413562238838093,0.3324359419350261,0.049843406301481714,0.47231853223164305,0.015055404117803078,0.2556200005264482,0.022701421726531324,0.04626249699422841,0.1832330686005465,3.120029949336941,4.042752963171209,0.06018051395481266,4.812224978167093,4.793009591525893,4.80004078089205,4.813580400474584,1.361837798471615,0.0,0.0,0.0,2.3496788222985607,4.17575703371282,4.055738710539412,2.271161890389763,2.277855206966433]     |214769500            |\n|[-0.8413562238838093,0.10303031877741307,0.12364596466643805,0.9446370644632861,0.015055404117803078,0.2556200005264482,0.022701421726531324,0.04626249699422841,0.1832330686005465,3.120029949336941,4.042752963171209,0.06018051395481266,4.734085424338709,4.715389886551835,4.714188496098746,4.715174141839432,1.4039579422024187,2.2798879555489173,0.0,0.0,0.0,4.17575703371282,4.055738710539412,2.271161890389763,2.277855206966433]    |390086200            |\n|[0.0,0.04699677507848972,0.4556384403395041,0.0,0.015055404117803078,0.2556200005264482,0.022701421726531324,0.04626249699422841,0.1832330686005465,3.120029949336941,4.042752963171209,0.06018051395481266,4.734085424338709,4.715389886551835,4.714188496098746,4.715174141839432,1.4039579422024187,2.2798879555489173,0.0,0.0,0.0,4.17575703371282,4.055738710539412,2.271161890389763,2.277855206966433]                                    |390086200            |\n|[-0.9942386459164917,0.13887058938623165,0.12328367008600061,4.72318532231643,0.015055404117803078,0.2556200005264482,0.022701421726531324,0.04626249699422841,0.1832330686005465,3.120029949336941,4.042752963171209,0.06018051395481266,4.392408411756157,4.263479644714214,4.382105710718602,4.293541132595367,2.142692430840915,0.0,2.2925406655845597,0.0,0.0,4.17575703371282,4.055738710539412,2.271161890389763,2.277855206966433]       |460067000            |\n|[1.0875270975186715,0.029090585404667524,0.14242006181598427,0.0,0.015060266974430275,0.2556200005264482,0.022701421726531324,0.04626249699422841,0.1832330686005465,3.120029949336941,4.042807308260993,0.06018051395481266,4.331961124587187,4.0754017312286654,4.38977821206094,4.042605316633699,3.4218967475760995,0.0,0.0,2.319055131985078,0.0,4.17575703371282,4.055738710539412,2.271161890389763,2.277855206966433]                    |482027500            |\n|[1.1808155491208512,0.11934670656430713,0.0,0.23615926611582153,0.015060266974430275,0.2556200005264482,0.022701421726531324,0.04626249699422841,0.1832330686005465,3.120029949336941,4.042807308260993,0.06018051395481266,4.331961124587187,4.0754017312286654,4.38977821206094,4.042605316633699,3.4218967475760995,0.0,0.0,2.319055131985078,0.0,4.17575703371282,4.055738710539412,2.271161890389763,2.277855206966433]                     |482027500            |\n|[0.0,0.035672923041773504,0.23374975225036146,0.0,0.015060266974430275,0.2556200005264482,0.022701421726531324,0.04626249699422841,0.1832330686005465,3.120029949336941,4.042807308260993,0.06018051395481266,4.144351946857556,4.3340089690627135,4.246204050401718,4.223142793211991,2.0437856286315186,2.2798879555489173,0.0,0.0,0.0,4.17575703371282,4.055738710539412,2.271161890389763,2.277855206966433]                                 |339246400            |\n|[2.1267755354480746,0.025548395235546934,0.5095582834523451,0.0,0.017083215331344385,0.4543736105322907,0.06709909323666173,0.05328971172752892,0.039469566490875393,3.120029949336941,4.400684914773155,0.04264248516744682,4.722290708293326,4.687402276402455,4.688250762480854,4.641748055021064,2.929257172245781,0.0,2.2925406655845597,0.0,0.0,4.17575703371282,4.055738710539412,0.0,0.0]                                                |453023300            |\n|[1.2419182276635188,0.023902810826270438,0.5752435309286239,0.0,0.036189379019602876,0.36600769977232983,0.262829266801176,0.421047282770256,0.11646042608353568,2.639078830603417,3.77574615151907,0.18693466415267349,2.860575218119032,2.8977845679246115,2.883268895560878,2.918693654653381,2.5697778625884626,0.0,2.2925406655845597,0.0,0.0,4.17575703371282,4.055738710539412,2.271161890389763,2.277855206966433]                       |507289000            |\n|[0.0,0.016623191659810015,0.6588919190949786,0.9446370644632861,0.036189379019602876,0.36600769977232983,0.26283699889304474,0.421047282770256,0.11646042608353568,2.639078830603417,3.77574615151907,0.18693898544221216,2.860575218119032,2.8977845679246115,2.883268895560878,2.918693654653381,2.5697778625884626,0.0,2.2925406655845597,0.0,0.0,4.17575703371282,4.055738710539412,2.271161890389763,2.277855206966433]                     |507289000            |\n|[0.5690344096380933,0.008478943396950074,1.2021415830018591,0.0,0.036189379019602876,0.36600769977232983,0.26283699889304474,0.421047282770256,0.11646042608353568,2.639078830603417,3.77574615151907,0.18693898544221216,2.860575218119032,2.8977845679246115,2.883268895560878,2.918693654653381,2.5697778625884626,0.0,2.2925406655845597,0.0,0.0,4.17575703371282,4.055738710539412,2.271161890389763,2.277855206966433]                     |507289000            |\n+-------------------------------------------------------------------------------------------------------------------------------------------------------------------------------------------------------------------------------------------------------------------------------------------------------------------------------------------------------------------------------------------------------------------------------------------------+---------------------+\nonly showing top 20 rows\n\n"
          ]
        }
      ],
      "metadata": {},
      "source": [
        "from pyspark.ml.feature import StringIndexer, OneHotEncoder, VectorAssembler, StandardScaler\n",
        "from pyspark.ml import Pipeline\n",
        "\n",
        "# Step 1: Convert Boolean columns to Integer\n",
        "df = df.withColumn(\"is_viral_int\", col(\"is_viral\").cast(\"int\")) \\\n",
        "       .withColumn(\"is_new_account_int\", col(\"is_new_account\").cast(\"int\")) \\\n",
        "       .withColumn(\"is_blue_verified_int\", col(\"is_blue_verified\").cast(\"int\")) \\\n",
        "       .withColumn(\"is_influencer_int\", col(\"is_influencer\").cast(\"int\"))\n",
        "\n",
        "# Step 2: Define categorical and binary columns\n",
        "categorical_cols = [\"day_of_week\"]\n",
        "binary_cols = [\n",
        "    \"is_viral_int\", \"is_new_account_int\", \"is_blue_verified_int\",\n",
        "    \"is_influencer_int\"\n",
        "]\n",
        "\n",
        "# Step 3: Drop rows with nulls in any features or label\n",
        "required_cols = [\n",
        "    \"sentiment_score\", \"interaction_score\", \"favorite_ratio\", \"reply_ratio\",\n",
        "    \"followers_count\", \"friends_count\", \"account_favourites_count\",\n",
        "    \"listed_count\", \"media_count\", \"account_age_days\", \"credibility_score\",\n",
        "    \"follower_activity_score\", \"current_open\", \"current_close\",\n",
        "    \"current_high\", \"current_low\", \"current_volume\", \"next_available_volume\"\n",
        "] + categorical_cols + binary_cols\n",
        "\n",
        "df = df.dropna(subset=required_cols)\n",
        "\n",
        "# Step 4: Create indexers and encoders\n",
        "indexers = [StringIndexer(inputCol=col_name, outputCol=f\"{col_name}_index\", handleInvalid=\"keep\") for col_name in categorical_cols]\n",
        "encoders = [OneHotEncoder(inputCol=f\"{col_name}_index\", outputCol=f\"{col_name}_vec\") for col_name in categorical_cols]\n",
        "binary_encoders = [OneHotEncoder(inputCol=col_name, outputCol=f\"{col_name}_vec\") for col_name in binary_cols]\n",
        "\n",
        "# Step 5: Define numeric columns to include in features\n",
        "numeric_cols = [\n",
        "    \"sentiment_score\", \"interaction_score\", \"favorite_ratio\", \"reply_ratio\",\n",
        "    \"followers_count\", \"friends_count\", \"account_favourites_count\",\n",
        "    \"listed_count\", \"media_count\", \"account_age_days\",\n",
        "    \"credibility_score\", \"follower_activity_score\",\n",
        "    \"current_open\", \"current_close\", \"current_high\", \"current_low\", \"current_volume\"\n",
        "]\n",
        "\n",
        "# Step 6: Assemble all features\n",
        "feature_cols = numeric_cols + [f\"{col}_vec\" for col in categorical_cols + binary_cols]\n",
        "assembler = VectorAssembler(inputCols=feature_cols, outputCol=\"features\")\n",
        "scaler = StandardScaler(inputCol=\"features\", outputCol=\"scaled_features\")\n",
        "\n",
        "# Step 7: Create and run pipeline\n",
        "pipeline = Pipeline(stages=indexers + encoders + binary_encoders + [assembler, scaler])\n",
        "pipeline_model = pipeline.fit(df)\n",
        "processed_model_df = pipeline_model.transform(df)\n",
        "\n",
        "#Preview\n",
        "processed_model_df.select(\"scaled_features\", \"next_available_volume\").show(truncate=False)"
      ]
    },
    {
      "cell_type": "code",
      "execution_count": 4,
      "outputs": [
        {
          "output_type": "display_data",
          "data": {
            "application/vnd.livy.statement-meta+json": {
              "spark_pool": "stockPredict",
              "statement_id": 5,
              "statement_ids": [
                5
              ],
              "state": "finished",
              "livy_statement_state": "available",
              "spark_jobs": null,
              "session_id": "23",
              "normalized_state": "finished",
              "queued_time": "2025-05-04T00:27:13.6267691Z",
              "session_start_time": null,
              "execution_start_time": "2025-05-04T00:27:13.6278802Z",
              "execution_finish_time": "2025-05-04T00:27:36.4770301Z",
              "parent_msg_id": "2485feba-f178-4885-a7eb-5ae72e104ce1"
            },
            "text/plain": "StatementMeta(stockPredict, 23, 5, Finished, Available, Finished)"
          },
          "metadata": {}
        }
      ],
      "metadata": {},
      "source": [
        "# Save preprocess pipeline\n",
        "abfss_base_path = f\"abfss://{container}@{storage_account_name}.dfs.core.windows.net/Model\"\n",
        "pipeline_path = f\"{abfss_base_path}/preprocess_pipeline\"\n",
        "pipeline_model.write().overwrite().save(pipeline_path)"
      ]
    },
    {
      "cell_type": "code",
      "execution_count": 5,
      "outputs": [
        {
          "output_type": "display_data",
          "data": {
            "application/vnd.livy.statement-meta+json": {
              "spark_pool": "stockPredict",
              "statement_id": 6,
              "statement_ids": [
                6
              ],
              "state": "finished",
              "livy_statement_state": "available",
              "spark_jobs": null,
              "session_id": "22",
              "normalized_state": "finished",
              "queued_time": "2025-05-03T09:05:17.0076202Z",
              "session_start_time": null,
              "execution_start_time": "2025-05-03T09:05:17.0089395Z",
              "execution_finish_time": "2025-05-03T09:14:29.6211461Z",
              "parent_msg_id": "25be9e47-15c4-48f2-a948-c425caf8175e"
            },
            "text/plain": "StatementMeta(stockPredict, 22, 6, Finished, Available, Finished)"
          },
          "metadata": {}
        },
        {
          "output_type": "stream",
          "name": "stdout",
          "text": [
            "Best model params:\n - numTrees: 100\n - maxDepth: 15\n - minInstancesPerNode: 1\nNew RMSE: 6367598.103419246\nNew R²: 0.9982680518670121\n"
          ]
        }
      ],
      "metadata": {},
      "source": [
        "from pyspark.ml.regression import RandomForestRegressor\n",
        "from pyspark.ml.evaluation import RegressionEvaluator\n",
        "from pyspark.ml.tuning import CrossValidator, ParamGridBuilder\n",
        "\n",
        "# Step 0: Split the data\n",
        "train_df, test_df = processed_model_df.randomSplit([0.8, 0.2], seed=42)\n",
        "\n",
        "# Step 1: Define the model\n",
        "rf = RandomForestRegressor(\n",
        "    featuresCol=\"scaled_features\", \n",
        "    labelCol=\"next_available_volume\", \n",
        "    predictionCol=\"prediction\",\n",
        "    seed=42\n",
        ")\n",
        "\n",
        "# Step 2: Build the parameter grid\n",
        "param_grid = ParamGridBuilder() \\\n",
        "    .addGrid(rf.numTrees, [20, 50, 100]) \\\n",
        "    .addGrid(rf.maxDepth, [5, 10, 15]) \\\n",
        "    .addGrid(rf.minInstancesPerNode, [1, 5]) \\\n",
        "    .build()\n",
        "\n",
        "# Step 3: Define evaluator\n",
        "evaluator = RegressionEvaluator(\n",
        "    labelCol=\"next_available_volume\", \n",
        "    predictionCol=\"prediction\", \n",
        "    metricName=\"rmse\"\n",
        ")\n",
        "\n",
        "# Step 4: CrossValidator setup\n",
        "cv = CrossValidator(\n",
        "    estimator=rf,\n",
        "    estimatorParamMaps=param_grid,\n",
        "    evaluator=evaluator,\n",
        "    numFolds=3,\n",
        "    parallelism=2\n",
        ")\n",
        "\n",
        "# Step 5: Fit the model on training data\n",
        "cv_model = cv.fit(train_df)\n",
        "\n",
        "# Step 6: Evaluate on test data\n",
        "best_model = cv_model.bestModel\n",
        "predictions = best_model.transform(test_df)\n",
        "\n",
        "rmse = evaluator.evaluate(predictions)\n",
        "r2 = RegressionEvaluator(\n",
        "    labelCol=\"next_available_volume\", \n",
        "    predictionCol=\"prediction\", \n",
        "    metricName=\"r2\"\n",
        ").evaluate(predictions)\n",
        "\n",
        "print(f\"Best model params:\")\n",
        "print(f\" - numTrees: {best_model.getNumTrees}\")\n",
        "print(f\" - maxDepth: {best_model.getOrDefault('maxDepth')}\")\n",
        "print(f\" - minInstancesPerNode: {best_model.getOrDefault('minInstancesPerNode')}\")\n",
        "print(f\"New RMSE: {rmse}\")\n",
        "print(f\"New R²: {r2}\")"
      ]
    },
    {
      "cell_type": "code",
      "execution_count": 6,
      "outputs": [
        {
          "output_type": "display_data",
          "data": {
            "application/vnd.livy.statement-meta+json": {
              "spark_pool": "stockPredict",
              "statement_id": 7,
              "statement_ids": [
                7
              ],
              "state": "finished",
              "livy_statement_state": "available",
              "spark_jobs": null,
              "session_id": "22",
              "normalized_state": "finished",
              "queued_time": "2025-05-03T09:14:37.7101459Z",
              "session_start_time": null,
              "execution_start_time": "2025-05-03T09:14:37.7113849Z",
              "execution_finish_time": "2025-05-03T09:14:46.5025124Z",
              "parent_msg_id": "efafae8f-d40c-4bc3-84a5-8973cac1585c"
            },
            "text/plain": "StatementMeta(stockPredict, 22, 7, Finished, Available, Finished)"
          },
          "metadata": {}
        },
        {
          "output_type": "stream",
          "name": "stdout",
          "text": [
            "Model saved to abfss://team12blobcontainer@team12storage.dfs.core.windows.net/Model/stock_volume_rf_model\n"
          ]
        }
      ],
      "metadata": {},
      "source": [
        "# Save best trained model\n",
        "abfss_base_path = f\"abfss://{container}@{storage_account_name}.dfs.core.windows.net/Model\"\n",
        "best_model.write().overwrite().save(f\"{abfss_base_path}/stock_volume_rf_model\")\n",
        "print(f\"Model saved to {abfss_base_path}/stock_volume_rf_model\")"
      ]
    }
  ]
}