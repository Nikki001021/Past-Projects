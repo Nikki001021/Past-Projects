{
  "nbformat": 4,
  "nbformat_minor": 2,
  "metadata": {
    "language_info": {
      "name": "python"
    },
    "kernelspec": {
      "name": "synapse_pyspark",
      "display_name": "python"
    },
    "description": null,
    "save_output": true,
    "synapse_widget": {
      "version": "0.1",
      "state": {}
    }
  },
  "cells": [
    {
      "cell_type": "code",
      "execution_count": 1,
      "outputs": [
        {
          "output_type": "display_data",
          "data": {
            "application/vnd.livy.statement-meta+json": {
              "spark_pool": "StockPool",
              "statement_id": 2,
              "statement_ids": [
                2
              ],
              "state": "finished",
              "livy_statement_state": "available",
              "spark_jobs": null,
              "session_id": "4",
              "normalized_state": "finished",
              "queued_time": "2025-05-02T22:56:09.4319879Z",
              "session_start_time": "2025-05-02T22:56:09.4329996Z",
              "execution_start_time": "2025-05-02T23:00:13.4326539Z",
              "execution_finish_time": "2025-05-02T23:00:13.6792934Z",
              "parent_msg_id": "5e0c50dc-39d6-4ef4-8e41-40f0e4af4e83"
            },
            "text/plain": "StatementMeta(StockPool, 4, 2, Finished, Available, Finished)"
          },
          "metadata": {}
        }
      ],
      "metadata": {},
      "source": [
        "# Set up the configuration for accessing the storage account\n",
        "storage_account_name = \"team12storage\"\n",
        "storage_account_key = \"ZdpCqxRwuQbJ8fUYN7EMbTLjOyj+I9rI6IjcQ/uU+4aFG46TQqjiz1Piq9SWKGkkjszo3r94l26M+AStR5PvPg==\"\n",
        "\n",
        "spark.conf.set(\n",
        "    \"fs.azure.account.key.\" + storage_account_name + \".dfs.core.windows.net\",\n",
        "    storage_account_key\n",
        ")"
      ]
    },
    {
      "cell_type": "code",
      "execution_count": 2,
      "outputs": [
        {
          "output_type": "display_data",
          "data": {
            "application/vnd.livy.statement-meta+json": {
              "spark_pool": "StockPool",
              "statement_id": 3,
              "statement_ids": [
                3
              ],
              "state": "finished",
              "livy_statement_state": "available",
              "spark_jobs": null,
              "session_id": "4",
              "normalized_state": "finished",
              "queued_time": "2025-05-02T23:00:31.2709085Z",
              "session_start_time": null,
              "execution_start_time": "2025-05-02T23:00:31.2722091Z",
              "execution_finish_time": "2025-05-02T23:00:31.5090585Z",
              "parent_msg_id": "04499679-8ac6-412e-8b05-c2b05f8b4a18"
            },
            "text/plain": "StatementMeta(StockPool, 4, 3, Finished, Available, Finished)"
          },
          "metadata": {}
        }
      ],
      "metadata": {},
      "source": [
        "container = \"team12blobcontainer\""
      ]
    },
    {
      "cell_type": "code",
      "execution_count": 3,
      "outputs": [
        {
          "output_type": "display_data",
          "data": {
            "application/vnd.livy.statement-meta+json": {
              "spark_pool": "StockPool",
              "statement_id": 4,
              "statement_ids": [
                4
              ],
              "state": "finished",
              "livy_statement_state": "available",
              "spark_jobs": null,
              "session_id": "4",
              "normalized_state": "finished",
              "queued_time": "2025-05-02T23:00:32.5093608Z",
              "session_start_time": null,
              "execution_start_time": "2025-05-02T23:00:32.510574Z",
              "execution_finish_time": "2025-05-02T23:01:13.8211676Z",
              "parent_msg_id": "db64d2dd-fb88-4722-b70b-5ab463c81225"
            },
            "text/plain": "StatementMeta(StockPool, 4, 4, Finished, Available, Finished)"
          },
          "metadata": {}
        }
      ],
      "metadata": {},
      "source": [
        "!pip install yfinance --upgrade --quiet"
      ]
    },
    {
      "cell_type": "code",
      "execution_count": 4,
      "outputs": [
        {
          "output_type": "display_data",
          "data": {
            "application/vnd.livy.statement-meta+json": {
              "spark_pool": "StockPool",
              "statement_id": 5,
              "statement_ids": [
                5
              ],
              "state": "finished",
              "livy_statement_state": "available",
              "spark_jobs": null,
              "session_id": "4",
              "normalized_state": "finished",
              "queued_time": "2025-05-02T23:01:21.555651Z",
              "session_start_time": null,
              "execution_start_time": "2025-05-02T23:01:21.5568847Z",
              "execution_finish_time": "2025-05-02T23:01:50.6049585Z",
              "parent_msg_id": "acf5c3ea-5097-4a8f-9d02-91151c95acda"
            },
            "text/plain": "StatementMeta(StockPool, 4, 5, Finished, Available, Finished)"
          },
          "metadata": {}
        }
      ],
      "metadata": {},
      "source": [
        "import yfinance as yf\n",
        "import pandas as pd\n",
        "from datetime import datetime, timedelta"
      ]
    },
    {
      "cell_type": "code",
      "execution_count": 5,
      "outputs": [
        {
          "output_type": "display_data",
          "data": {
            "application/vnd.livy.statement-meta+json": {
              "spark_pool": "StockPool",
              "statement_id": 6,
              "statement_ids": [
                6
              ],
              "state": "finished",
              "livy_statement_state": "available",
              "spark_jobs": null,
              "session_id": "4",
              "normalized_state": "finished",
              "queued_time": "2025-05-02T23:03:32.7199341Z",
              "session_start_time": null,
              "execution_start_time": "2025-05-02T23:03:32.7211618Z",
              "execution_finish_time": "2025-05-02T23:03:32.9713527Z",
              "parent_msg_id": "493da384-c55d-44fa-aa63-4474ccb10d55"
            },
            "text/plain": "StatementMeta(StockPool, 4, 6, Finished, Available, Finished)"
          },
          "metadata": {}
        }
      ],
      "metadata": {},
      "source": [
        "# Pull data from Yahoo Finance\n",
        "ticker = \"NVDA\"\n",
        "start_date = \"2024-01-01\"\n",
        "end_date = (datetime.strptime(\"2025-04-28\", \"%Y-%m-%d\") + timedelta(days=1)).strftime('%Y-%m-%d')"
      ]
    },
    {
      "cell_type": "code",
      "execution_count": 6,
      "outputs": [
        {
          "output_type": "display_data",
          "data": {
            "application/vnd.livy.statement-meta+json": {
              "spark_pool": "StockPool",
              "statement_id": 7,
              "statement_ids": [
                7
              ],
              "state": "finished",
              "livy_statement_state": "available",
              "spark_jobs": null,
              "session_id": "4",
              "normalized_state": "finished",
              "queued_time": "2025-05-02T23:03:34.0388208Z",
              "session_start_time": null,
              "execution_start_time": "2025-05-02T23:03:34.0399892Z",
              "execution_finish_time": "2025-05-02T23:03:35.9244076Z",
              "parent_msg_id": "b0e30365-d578-46ce-b498-0d27deef2947"
            },
            "text/plain": "StatementMeta(StockPool, 4, 7, Finished, Available, Finished)"
          },
          "metadata": {}
        },
        {
          "output_type": "stream",
          "name": "stdout",
          "text": [
            "YF.download() has changed argument auto_adjust default to True\n"
          ]
        },
        {
          "output_type": "stream",
          "name": "stderr",
          "text": [
            "\r[*********************100%***********************]  1 of 1 completed\n"
          ]
        }
      ],
      "metadata": {},
      "source": [
        "df = yf.download(ticker, start=start_date, end=end_date)\n",
        "df.reset_index(inplace=True)"
      ]
    },
    {
      "cell_type": "code",
      "execution_count": 7,
      "outputs": [
        {
          "output_type": "display_data",
          "data": {
            "application/vnd.livy.statement-meta+json": {
              "spark_pool": "StockPool",
              "statement_id": 8,
              "statement_ids": [
                8
              ],
              "state": "finished",
              "livy_statement_state": "available",
              "spark_jobs": null,
              "session_id": "4",
              "normalized_state": "finished",
              "queued_time": "2025-05-02T23:03:36.8392408Z",
              "session_start_time": null,
              "execution_start_time": "2025-05-02T23:03:36.8404228Z",
              "execution_finish_time": "2025-05-02T23:03:37.0464057Z",
              "parent_msg_id": "484c9de2-e786-43d3-82f3-a536b89716ab"
            },
            "text/plain": "StatementMeta(StockPool, 4, 8, Finished, Available, Finished)"
          },
          "metadata": {}
        },
        {
          "output_type": "execute_result",
          "data": {
            "text/plain": "Price        Date       Close        High         Low        Open     Volume\nTicker                   NVDA        NVDA        NVDA        NVDA       NVDA\n0      2024-01-02   48.149918   49.276493   47.577135   49.225514  411254000\n1      2024-01-03   47.551144   48.165911   47.302237   47.467176  320896000\n2      2024-01-04   47.979984   48.481795   47.490167   47.749068  306535000\n3      2024-01-05   49.078568   49.528399   48.287864   48.443808  415039000\n4      2024-01-08   52.233383   52.255378   49.460426   49.493415  642510000\n..            ...         ...         ...         ...         ...        ...\n326    2025-04-22   98.889999   99.809998   97.279999   98.779999  241004800\n327    2025-04-23  102.709999  104.800003  102.019997  104.519997  247526000\n328    2025-04-24  106.430000  106.540001  103.110001  103.480003  220815000\n329    2025-04-25  111.010002  111.919998  105.730003  106.849998  251064700\n330    2025-04-28  108.730003  110.370003  106.019997  109.690002  207708500\n\n[331 rows x 6 columns]",
            "text/html": "<div>\n<style scoped>\n    .dataframe tbody tr th:only-of-type {\n        vertical-align: middle;\n    }\n\n    .dataframe tbody tr th {\n        vertical-align: top;\n    }\n\n    .dataframe thead tr th {\n        text-align: left;\n    }\n</style>\n<table border=\"1\" class=\"dataframe\">\n  <thead>\n    <tr>\n      <th>Price</th>\n      <th>Date</th>\n      <th>Close</th>\n      <th>High</th>\n      <th>Low</th>\n      <th>Open</th>\n      <th>Volume</th>\n    </tr>\n    <tr>\n      <th>Ticker</th>\n      <th></th>\n      <th>NVDA</th>\n      <th>NVDA</th>\n      <th>NVDA</th>\n      <th>NVDA</th>\n      <th>NVDA</th>\n    </tr>\n  </thead>\n  <tbody>\n    <tr>\n      <th>0</th>\n      <td>2024-01-02</td>\n      <td>48.149918</td>\n      <td>49.276493</td>\n      <td>47.577135</td>\n      <td>49.225514</td>\n      <td>411254000</td>\n    </tr>\n    <tr>\n      <th>1</th>\n      <td>2024-01-03</td>\n      <td>47.551144</td>\n      <td>48.165911</td>\n      <td>47.302237</td>\n      <td>47.467176</td>\n      <td>320896000</td>\n    </tr>\n    <tr>\n      <th>2</th>\n      <td>2024-01-04</td>\n      <td>47.979984</td>\n      <td>48.481795</td>\n      <td>47.490167</td>\n      <td>47.749068</td>\n      <td>306535000</td>\n    </tr>\n    <tr>\n      <th>3</th>\n      <td>2024-01-05</td>\n      <td>49.078568</td>\n      <td>49.528399</td>\n      <td>48.287864</td>\n      <td>48.443808</td>\n      <td>415039000</td>\n    </tr>\n    <tr>\n      <th>4</th>\n      <td>2024-01-08</td>\n      <td>52.233383</td>\n      <td>52.255378</td>\n      <td>49.460426</td>\n      <td>49.493415</td>\n      <td>642510000</td>\n    </tr>\n    <tr>\n      <th>...</th>\n      <td>...</td>\n      <td>...</td>\n      <td>...</td>\n      <td>...</td>\n      <td>...</td>\n      <td>...</td>\n    </tr>\n    <tr>\n      <th>326</th>\n      <td>2025-04-22</td>\n      <td>98.889999</td>\n      <td>99.809998</td>\n      <td>97.279999</td>\n      <td>98.779999</td>\n      <td>241004800</td>\n    </tr>\n    <tr>\n      <th>327</th>\n      <td>2025-04-23</td>\n      <td>102.709999</td>\n      <td>104.800003</td>\n      <td>102.019997</td>\n      <td>104.519997</td>\n      <td>247526000</td>\n    </tr>\n    <tr>\n      <th>328</th>\n      <td>2025-04-24</td>\n      <td>106.430000</td>\n      <td>106.540001</td>\n      <td>103.110001</td>\n      <td>103.480003</td>\n      <td>220815000</td>\n    </tr>\n    <tr>\n      <th>329</th>\n      <td>2025-04-25</td>\n      <td>111.010002</td>\n      <td>111.919998</td>\n      <td>105.730003</td>\n      <td>106.849998</td>\n      <td>251064700</td>\n    </tr>\n    <tr>\n      <th>330</th>\n      <td>2025-04-28</td>\n      <td>108.730003</td>\n      <td>110.370003</td>\n      <td>106.019997</td>\n      <td>109.690002</td>\n      <td>207708500</td>\n    </tr>\n  </tbody>\n</table>\n<p>331 rows × 6 columns</p>\n</div>"
          },
          "execution_count": 17,
          "metadata": {}
        }
      ],
      "metadata": {},
      "source": [
        "df"
      ]
    },
    {
      "cell_type": "code",
      "execution_count": 8,
      "outputs": [
        {
          "output_type": "display_data",
          "data": {
            "application/vnd.livy.statement-meta+json": {
              "spark_pool": "StockPool",
              "statement_id": 9,
              "statement_ids": [
                9
              ],
              "state": "finished",
              "livy_statement_state": "available",
              "spark_jobs": null,
              "session_id": "4",
              "normalized_state": "finished",
              "queued_time": "2025-05-02T23:03:41.0359875Z",
              "session_start_time": null,
              "execution_start_time": "2025-05-02T23:03:41.0372312Z",
              "execution_finish_time": "2025-05-02T23:03:41.2474125Z",
              "parent_msg_id": "13730c1c-22bc-4524-9acd-85054bf64b7e"
            },
            "text/plain": "StatementMeta(StockPool, 4, 9, Finished, Available, Finished)"
          },
          "metadata": {}
        }
      ],
      "metadata": {},
      "source": [
        "output_path = f\"abfss://{container}@{storage_account_name}.dfs.core.windows.net/Medallion/Bronze/Stock_Volume/batch\""
      ]
    },
    {
      "cell_type": "code",
      "execution_count": 9,
      "outputs": [
        {
          "output_type": "display_data",
          "data": {
            "application/vnd.livy.statement-meta+json": {
              "spark_pool": "StockPool",
              "statement_id": 10,
              "statement_ids": [
                10
              ],
              "state": "finished",
              "livy_statement_state": "available",
              "spark_jobs": null,
              "session_id": "4",
              "normalized_state": "finished",
              "queued_time": "2025-05-02T23:03:44.3625215Z",
              "session_start_time": null,
              "execution_start_time": "2025-05-02T23:03:44.3635967Z",
              "execution_finish_time": "2025-05-02T23:04:03.7862192Z",
              "parent_msg_id": "39b48c86-cf0a-44d5-92db-e6aabbb0ea74"
            },
            "text/plain": "StatementMeta(StockPool, 4, 10, Finished, Available, Finished)"
          },
          "metadata": {}
        }
      ],
      "metadata": {},
      "source": [
        "spark_df = spark.createDataFrame(df)\n",
        "spark_df.coalesce(1).write.mode(\"overwrite\").csv(f\"{output_path}\")"
      ]
    },
    {
      "cell_type": "code",
      "execution_count": null,
      "outputs": [],
      "metadata": {},
      "source": []
    }
  ]
}