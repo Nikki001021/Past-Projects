{
  "nbformat": 4,
  "nbformat_minor": 2,
  "metadata": {
    "language_info": {
      "name": "python"
    },
    "kernelspec": {
      "name": "synapse_pyspark",
      "display_name": "python"
    },
    "description": null,
    "save_output": true,
    "synapse_widget": {
      "version": "0.1",
      "state": {}
    }
  },
  "cells": [
    {
      "cell_type": "code",
      "execution_count": 2,
      "outputs": [
        {
          "output_type": "display_data",
          "data": {
            "application/vnd.livy.statement-meta+json": {
              "spark_pool": "StockPool",
              "statement_id": 3,
              "statement_ids": [
                3
              ],
              "state": "finished",
              "livy_statement_state": "available",
              "spark_jobs": null,
              "session_id": "5",
              "normalized_state": "finished",
              "queued_time": "2025-05-02T23:08:12.4276839Z",
              "session_start_time": null,
              "execution_start_time": "2025-05-02T23:08:12.4289875Z",
              "execution_finish_time": "2025-05-02T23:08:12.6681827Z",
              "parent_msg_id": "caf669bb-24db-4230-977e-ba287b5f6fd4"
            },
            "text/plain": "StatementMeta(StockPool, 5, 3, Finished, Available, Finished)"
          },
          "metadata": {}
        }
      ],
      "metadata": {},
      "source": [
        "# Set up the configuration for accessing the storage account\n",
        "storage_account_name = \"team12storage\"\n",
        "storage_account_key = \"ZdpCqxRwuQbJ8fUYN7EMbTLjOyj+I9rI6IjcQ/uU+4aFG46TQqjiz1Piq9SWKGkkjszo3r94l26M+AStR5PvPg==\"\n",
        "\n",
        "spark.conf.set(\n",
        "    \"fs.azure.account.key.\" + storage_account_name + \".dfs.core.windows.net\",\n",
        "    storage_account_key\n",
        ")"
      ]
    },
    {
      "cell_type": "code",
      "execution_count": 1,
      "outputs": [
        {
          "output_type": "display_data",
          "data": {
            "application/vnd.livy.statement-meta+json": {
              "spark_pool": "StockPool",
              "statement_id": 2,
              "statement_ids": [
                2
              ],
              "state": "finished",
              "livy_statement_state": "available",
              "spark_jobs": null,
              "session_id": "5",
              "normalized_state": "finished",
              "queued_time": "2025-05-02T23:05:00.3635057Z",
              "session_start_time": "2025-05-02T23:05:00.3645382Z",
              "execution_start_time": "2025-05-02T23:08:07.7579788Z",
              "execution_finish_time": "2025-05-02T23:08:08.041508Z",
              "parent_msg_id": "56e93f71-e75c-4b1b-85c0-ebcf6415e281"
            },
            "text/plain": "StatementMeta(StockPool, 5, 2, Finished, Available, Finished)"
          },
          "metadata": {}
        }
      ],
      "metadata": {},
      "source": [
        "container = \"team12blobcontainer\""
      ]
    },
    {
      "cell_type": "code",
      "execution_count": 3,
      "outputs": [
        {
          "output_type": "display_data",
          "data": {
            "application/vnd.livy.statement-meta+json": {
              "spark_pool": "StockPool",
              "statement_id": 4,
              "statement_ids": [
                4
              ],
              "state": "finished",
              "livy_statement_state": "available",
              "spark_jobs": null,
              "session_id": "5",
              "normalized_state": "finished",
              "queued_time": "2025-05-02T23:08:15.3699883Z",
              "session_start_time": null,
              "execution_start_time": "2025-05-02T23:08:15.3711359Z",
              "execution_finish_time": "2025-05-02T23:08:38.1997855Z",
              "parent_msg_id": "a45ba729-fc32-40d7-8c2f-f1b0c1db1f85"
            },
            "text/plain": "StatementMeta(StockPool, 5, 4, Finished, Available, Finished)"
          },
          "metadata": {}
        }
      ],
      "metadata": {},
      "source": [
        "abfss_base_path = f\"abfss://{container}@{storage_account_name}.dfs.core.windows.net/\"\n",
        "df = spark.read.csv(f\"{abfss_base_path}Medallion/Bronze/Stock_Volume/batch/part-00000-7a861d5b-ba71-4207-b368-5144fc367747-c000.csv\", inferSchema=True)"
      ]
    },
    {
      "cell_type": "code",
      "execution_count": 4,
      "outputs": [
        {
          "output_type": "display_data",
          "data": {
            "application/vnd.livy.statement-meta+json": {
              "spark_pool": "StockPool",
              "statement_id": 5,
              "statement_ids": [
                5
              ],
              "state": "finished",
              "livy_statement_state": "available",
              "spark_jobs": null,
              "session_id": "5",
              "normalized_state": "finished",
              "queued_time": "2025-05-02T23:08:43.2187135Z",
              "session_start_time": null,
              "execution_start_time": "2025-05-02T23:08:43.2199656Z",
              "execution_finish_time": "2025-05-02T23:09:12.2019596Z",
              "parent_msg_id": "58d88ad6-41f6-4451-ac63-08d37cc21bb9"
            },
            "text/plain": "StatementMeta(StockPool, 5, 5, Finished, Available, Finished)"
          },
          "metadata": {}
        }
      ],
      "metadata": {},
      "source": [
        "df = df.toPandas()\n",
        ""
      ]
    },
    {
      "cell_type": "code",
      "execution_count": 6,
      "outputs": [
        {
          "output_type": "display_data",
          "data": {
            "application/vnd.livy.statement-meta+json": {
              "spark_pool": "StockPool",
              "statement_id": 7,
              "statement_ids": [
                7
              ],
              "state": "finished",
              "livy_statement_state": "available",
              "spark_jobs": null,
              "session_id": "5",
              "normalized_state": "finished",
              "queued_time": "2025-05-02T23:10:04.6996861Z",
              "session_start_time": null,
              "execution_start_time": "2025-05-02T23:10:04.7008819Z",
              "execution_finish_time": "2025-05-02T23:11:00.5567604Z",
              "parent_msg_id": "a24f71e0-ee2c-444b-b2aa-5f5183fa1b39"
            },
            "text/plain": "StatementMeta(StockPool, 5, 7, Finished, Available, Finished)"
          },
          "metadata": {}
        }
      ],
      "metadata": {},
      "source": [
        "!pip install yfinance --upgrade --quiet"
      ]
    },
    {
      "cell_type": "code",
      "execution_count": 7,
      "outputs": [
        {
          "output_type": "display_data",
          "data": {
            "application/vnd.livy.statement-meta+json": {
              "spark_pool": "StockPool",
              "statement_id": 8,
              "statement_ids": [
                8
              ],
              "state": "finished",
              "livy_statement_state": "available",
              "spark_jobs": null,
              "session_id": "5",
              "normalized_state": "finished",
              "queued_time": "2025-05-02T23:11:40.0805069Z",
              "session_start_time": null,
              "execution_start_time": "2025-05-02T23:11:40.0817717Z",
              "execution_finish_time": "2025-05-02T23:11:45.3836383Z",
              "parent_msg_id": "aa61209c-6b41-4a78-ba1d-435434df18d3"
            },
            "text/plain": "StatementMeta(StockPool, 5, 8, Finished, Available, Finished)"
          },
          "metadata": {}
        }
      ],
      "metadata": {},
      "source": [
        "import yfinance as yf\n",
        "import pandas as pd\n",
        "from datetime import datetime, timedelta"
      ]
    },
    {
      "cell_type": "code",
      "execution_count": 8,
      "outputs": [
        {
          "output_type": "display_data",
          "data": {
            "application/vnd.livy.statement-meta+json": {
              "spark_pool": "StockPool",
              "statement_id": 9,
              "statement_ids": [
                9
              ],
              "state": "finished",
              "livy_statement_state": "available",
              "spark_jobs": null,
              "session_id": "5",
              "normalized_state": "finished",
              "queued_time": "2025-05-02T23:11:46.1710644Z",
              "session_start_time": null,
              "execution_start_time": "2025-05-02T23:11:46.1723034Z",
              "execution_finish_time": "2025-05-02T23:11:46.3897868Z",
              "parent_msg_id": "93d63640-9785-401b-8f92-d1fcacd2dd2f"
            },
            "text/plain": "StatementMeta(StockPool, 5, 9, Finished, Available, Finished)"
          },
          "metadata": {}
        },
        {
          "output_type": "execute_result",
          "data": {
            "text/plain": "           _c0         _c1         _c2         _c3         _c4        _c5\n0   2024-01-02   48.149918   49.276493   47.577135   49.225514  411254000\n1   2024-01-03   47.551144   48.165911   47.302237   47.467176  320896000\n2   2024-01-04   47.979984   48.481795   47.490167   47.749068  306535000\n3   2024-01-05   49.078568   49.528399   48.287864   48.443808  415039000\n4   2024-01-08   52.233383   52.255378   49.460426   49.493415  642510000\n..         ...         ...         ...         ...         ...        ...\n326 2025-04-22   98.889999   99.809998   97.279999   98.779999  241004800\n327 2025-04-23  102.709999  104.800003  102.019997  104.519997  247526000\n328 2025-04-24  106.430000  106.540001  103.110001  103.480003  220815000\n329 2025-04-25  111.010002  111.919998  105.730003  106.849998  251064700\n330 2025-04-28  108.730003  110.370003  106.019997  109.690002  207708500\n\n[331 rows x 6 columns]",
            "text/html": "<div>\n<style scoped>\n    .dataframe tbody tr th:only-of-type {\n        vertical-align: middle;\n    }\n\n    .dataframe tbody tr th {\n        vertical-align: top;\n    }\n\n    .dataframe thead th {\n        text-align: right;\n    }\n</style>\n<table border=\"1\" class=\"dataframe\">\n  <thead>\n    <tr style=\"text-align: right;\">\n      <th></th>\n      <th>_c0</th>\n      <th>_c1</th>\n      <th>_c2</th>\n      <th>_c3</th>\n      <th>_c4</th>\n      <th>_c5</th>\n    </tr>\n  </thead>\n  <tbody>\n    <tr>\n      <th>0</th>\n      <td>2024-01-02</td>\n      <td>48.149918</td>\n      <td>49.276493</td>\n      <td>47.577135</td>\n      <td>49.225514</td>\n      <td>411254000</td>\n    </tr>\n    <tr>\n      <th>1</th>\n      <td>2024-01-03</td>\n      <td>47.551144</td>\n      <td>48.165911</td>\n      <td>47.302237</td>\n      <td>47.467176</td>\n      <td>320896000</td>\n    </tr>\n    <tr>\n      <th>2</th>\n      <td>2024-01-04</td>\n      <td>47.979984</td>\n      <td>48.481795</td>\n      <td>47.490167</td>\n      <td>47.749068</td>\n      <td>306535000</td>\n    </tr>\n    <tr>\n      <th>3</th>\n      <td>2024-01-05</td>\n      <td>49.078568</td>\n      <td>49.528399</td>\n      <td>48.287864</td>\n      <td>48.443808</td>\n      <td>415039000</td>\n    </tr>\n    <tr>\n      <th>4</th>\n      <td>2024-01-08</td>\n      <td>52.233383</td>\n      <td>52.255378</td>\n      <td>49.460426</td>\n      <td>49.493415</td>\n      <td>642510000</td>\n    </tr>\n    <tr>\n      <th>...</th>\n      <td>...</td>\n      <td>...</td>\n      <td>...</td>\n      <td>...</td>\n      <td>...</td>\n      <td>...</td>\n    </tr>\n    <tr>\n      <th>326</th>\n      <td>2025-04-22</td>\n      <td>98.889999</td>\n      <td>99.809998</td>\n      <td>97.279999</td>\n      <td>98.779999</td>\n      <td>241004800</td>\n    </tr>\n    <tr>\n      <th>327</th>\n      <td>2025-04-23</td>\n      <td>102.709999</td>\n      <td>104.800003</td>\n      <td>102.019997</td>\n      <td>104.519997</td>\n      <td>247526000</td>\n    </tr>\n    <tr>\n      <th>328</th>\n      <td>2025-04-24</td>\n      <td>106.430000</td>\n      <td>106.540001</td>\n      <td>103.110001</td>\n      <td>103.480003</td>\n      <td>220815000</td>\n    </tr>\n    <tr>\n      <th>329</th>\n      <td>2025-04-25</td>\n      <td>111.010002</td>\n      <td>111.919998</td>\n      <td>105.730003</td>\n      <td>106.849998</td>\n      <td>251064700</td>\n    </tr>\n    <tr>\n      <th>330</th>\n      <td>2025-04-28</td>\n      <td>108.730003</td>\n      <td>110.370003</td>\n      <td>106.019997</td>\n      <td>109.690002</td>\n      <td>207708500</td>\n    </tr>\n  </tbody>\n</table>\n<p>331 rows × 6 columns</p>\n</div>"
          },
          "execution_count": 19,
          "metadata": {}
        }
      ],
      "metadata": {},
      "source": [
        "df"
      ]
    },
    {
      "cell_type": "code",
      "execution_count": 9,
      "outputs": [
        {
          "output_type": "display_data",
          "data": {
            "application/vnd.livy.statement-meta+json": {
              "spark_pool": "StockPool",
              "statement_id": 10,
              "statement_ids": [
                10
              ],
              "state": "finished",
              "livy_statement_state": "available",
              "spark_jobs": null,
              "session_id": "5",
              "normalized_state": "finished",
              "queued_time": "2025-05-02T23:11:49.092736Z",
              "session_start_time": null,
              "execution_start_time": "2025-05-02T23:11:49.0939344Z",
              "execution_finish_time": "2025-05-02T23:11:49.7027763Z",
              "parent_msg_id": "dfeba40b-bea9-49ca-a1fb-49d39a0d8b92"
            },
            "text/plain": "StatementMeta(StockPool, 5, 10, Finished, Available, Finished)"
          },
          "metadata": {}
        },
        {
          "output_type": "stream",
          "name": "stdout",
          "text": [
            "<class 'pandas.core.frame.DataFrame'>\nInt64Index: 331 entries, 0 to 330\nData columns (total 6 columns):\n #   Column  Non-Null Count  Dtype         \n---  ------  --------------  -----         \n 0   Date    331 non-null    datetime64[ns]\n 1   Close   331 non-null    float64       \n 2   High    331 non-null    float64       \n 3   Low     331 non-null    float64       \n 4   Open    331 non-null    float64       \n 5   Volume  331 non-null    int32         \ndtypes: datetime64[ns](1), float64(4), int32(1)\nmemory usage: 16.8 KB\nNone\n        Date      Close       High        Low       Open     Volume\n0 2024-01-02  48.149918  49.276493  47.577135  49.225514  411254000\n1 2024-01-03  47.551144  48.165911  47.302237  47.467176  320896000\n2 2024-01-04  47.979984  48.481795  47.490167  47.749068  306535000\n3 2024-01-05  49.078568  49.528399  48.287864  48.443808  415039000\n4 2024-01-08  52.233383  52.255378  49.460426  49.493415  642510000\n"
          ]
        }
      ],
      "metadata": {},
      "source": [
        "# Rename columns\n",
        "df.columns = ['Date', 'Close', 'High', 'Low', 'Open', 'Volume']\n",
        "\n",
        "# Convert Date column to datetime (if not already)\n",
        "df['Date'] = pd.to_datetime(df['Date'])\n",
        "\n",
        "# Sort by Date to ensure chronological order\n",
        "df.sort_values('Date', inplace=True)\n",
        "\n",
        "# Check for and drop any duplicate rows\n",
        "df.drop_duplicates(inplace=True)\n",
        "\n",
        "# Print summary to validate\n",
        "print(df.info())\n",
        "print(df.head())\n",
        ""
      ]
    },
    {
      "cell_type": "code",
      "execution_count": 10,
      "outputs": [
        {
          "output_type": "display_data",
          "data": {
            "application/vnd.livy.statement-meta+json": {
              "spark_pool": "StockPool",
              "statement_id": 11,
              "statement_ids": [
                11
              ],
              "state": "finished",
              "livy_statement_state": "available",
              "spark_jobs": null,
              "session_id": "5",
              "normalized_state": "finished",
              "queued_time": "2025-05-02T23:11:50.5714887Z",
              "session_start_time": null,
              "execution_start_time": "2025-05-02T23:11:50.5727206Z",
              "execution_finish_time": "2025-05-02T23:11:57.8259249Z",
              "parent_msg_id": "fb65a9a8-0fd4-4d10-9386-7e4bb890a9b6"
            },
            "text/plain": "StatementMeta(StockPool, 5, 11, Finished, Available, Finished)"
          },
          "metadata": {}
        }
      ],
      "metadata": {},
      "source": [
        "# Define the output path with specific folder/file name structure\n",
        "output_path = f\"abfss://{container}@{storage_account_name}.dfs.core.windows.net/Medallion/Silver/Stock_Volume_Silver/\"\n",
        "\n",
        "# Convert pandas timestamp to string format that Spark can handle\n",
        "df['Date'] = df['Date'].dt.strftime('%Y-%m-%d %H:%M:%S')\n",
        "\n",
        "# Create spark dataframe directly from pandas\n",
        "spark_df = spark.createDataFrame(df)\n",
        "\n",
        "# Write with controlled partitioning to ensure all data is included\n",
        "spark_df.repartition(1).write.format(\"parquet\").mode(\"overwrite\").save(output_path)"
      ]
    },
    {
      "cell_type": "code",
      "execution_count": null,
      "outputs": [],
      "metadata": {},
      "source": []
    }
  ]
}