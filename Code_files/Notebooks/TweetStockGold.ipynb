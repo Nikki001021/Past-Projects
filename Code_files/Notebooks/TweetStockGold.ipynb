{
  "nbformat": 4,
  "nbformat_minor": 2,
  "metadata": {
    "language_info": {
      "name": "python"
    },
    "kernelspec": {
      "name": "synapse_pyspark",
      "display_name": "python"
    },
    "description": null,
    "save_output": true,
    "synapse_widget": {
      "version": "0.1",
      "state": {
        "8ddd6b57-cbd6-47ff-a11f-8822c50494b4": {
          "type": "Synapse.DataFrame",
          "sync_state": {
            "table": {
              "rows": [
                {
                  "0": "VXNlcjo1NjI5OTU5OTE=",
                  "1": "true",
                  "2": "2012-04-25",
                  "3": "44327",
                  "4": "169",
                  "5": "5660",
                  "6": "911",
                  "7": "4792",
                  "8": "false",
                  "9": "1745854202658599294",
                  "10": "2024-01-12",
                  "11": "17:04:12",
                  "12": "true",
                  "13": "17348",
                  "14": "4",
                  "15": "5",
                  "16": "0",
                  "17": "19",
                  "18": "false",
                  "19": "Shares of $NVDA are up 12% this week alone, after more than tripling last year. But it's not hard to argue that it's still cheap. Nvidia's meteoric rise actually lagged fundamental growth of the business - earnings nearly quadrupled. @dee_bosa on whether Nvidia can run it back. https://t.co/N939r5DFzN"
                },
                {
                  "0": "VXNlcjoxNjM1Nzg2OTAw",
                  "1": "true",
                  "2": "2013-07-31",
                  "3": "16858",
                  "4": "605",
                  "5": "8255",
                  "6": "297",
                  "7": "3734",
                  "8": "false",
                  "9": "1745901018238296118",
                  "10": "2024-01-12",
                  "11": "20:10:14",
                  "12": "true",
                  "13": "1252",
                  "14": "1",
                  "15": "3",
                  "16": "0",
                  "17": "7",
                  "18": "false",
                  "19": "$NVDA Big 3 Squeeze Setup 🚀 With @taylor_horton24 \n\n✅ Took profits near $550 target\n💰 Used profits to open a new trade\n🚨 Alerted in the Compounding Growth Mastery\n\nLAST CHANCE: Get 30% off the Big 3 Squeeze today, and get access to Taylor's new Slingshot Indicator update next… https://t.co/6mkK20XrVl"
                },
                {
                  "0": "VXNlcjoxNjQzMzIzODExNTQwOTQyODQ5",
                  "1": "true",
                  "2": "2023-04-04",
                  "3": "36346",
                  "4": "182",
                  "5": "2664",
                  "6": "139",
                  "7": "2795",
                  "8": "false",
                  "9": "1745926589185929383",
                  "10": "2024-01-12",
                  "11": "21:51:51",
                  "12": "true",
                  "13": "923",
                  "14": "1",
                  "15": "1",
                  "16": "0",
                  "17": "2",
                  "18": "false",
                  "19": "Today's Top Predictor is @PaperGainsInc from Team @RJRCapital / @StockMKTNewz .\n\nSee his predictions from $META, $GOOGL, and $NVDA and follow him to see more!\n\nhttps://t.co/y9IP1F37GV https://t.co/kwlVlDuecn"
                },
                {
                  "0": "VXNlcjoxMDY0NzAwMzA4",
                  "1": "true",
                  "2": "2013-01-06",
                  "3": "104852",
                  "4": "2352",
                  "5": "51833",
                  "6": "2395",
                  "7": "18630",
                  "8": "false",
                  "9": "1745950233148768336",
                  "10": "2024-01-12",
                  "11": "23:25:48",
                  "12": "true",
                  "13": "12487",
                  "14": "16",
                  "15": "8",
                  "16": "1",
                  "17": "117",
                  "18": "false",
                  "19": "Of the top 25 market caps, 13 put in 52-week or longer weekly closing highs today. A good start to the year for big caps. \n$AMZN $COST $GOOG $GOOGL $HD $LLY $MA $META $MRK $MSFT $NVDA $NVO $V https://t.co/BkkYppi5Gj"
                },
                {
                  "0": "VXNlcjoxMzE3MDA3MTI1Nzc2OTAwMDk3",
                  "1": "true",
                  "2": "2020-10-16",
                  "3": "5216",
                  "4": "217",
                  "5": "3343",
                  "6": "86",
                  "7": "3155",
                  "8": "false",
                  "9": "1745815074747396199",
                  "10": "2024-01-12",
                  "11": "14:28:44",
                  "12": "true",
                  "13": "541",
                  "14": "1",
                  "15": "1",
                  "16": "0",
                  "17": "4",
                  "18": "false",
                  "19": "This Week @CobbsCapital \n\nWe profited off $NVDA by:\n\n•Quickly assessing the spike in average volume\n•Confirming the break + hold of 500\n•Letting the trade run from support to resistance\n\nThat’s how we made 160% gains\n\nThat’s also how we made +$1,215/hour💰 https://t.co/nAk118yOcZ"
                },
                {
                  "0": "VXNlcjoxNDEyNDAyNDYxNDYyMTE4NDAw",
                  "1": "true",
                  "2": "2021-07-06",
                  "3": "10413",
                  "4": "43",
                  "5": "926",
                  "6": "200",
                  "7": "3381",
                  "8": "false",
                  "9": "1745947896204169601",
                  "10": "2024-01-12",
                  "11": "23:16:31",
                  "12": "true",
                  "13": "53241",
                  "14": "9",
                  "15": "14",
                  "16": "3",
                  "17": "43",
                  "18": "false",
                  "19": "Check out Episode #1 featuring @InvestorsLive here: https://t.co/YlnZuU1dW0\n\nTopics:\n\n- Bitcoin ETF News, Rumors, and Blunders\n- Thoughts on the $NVDA $500 Breakout\n- How to Trade Boeing $BA Bad News\n- Tiger Woods Leaves $NKE (and $ONON Rumors)\n- Trading Themes That Worked Well… https://t.co/3afyCK6khr"
                },
                {
                  "0": "VXNlcjoxMzA3NDExNjU2Nzg0Mjc3NTA0",
                  "1": "true",
                  "2": "2020-09-19",
                  "3": "54805",
                  "4": "798",
                  "5": "15873",
                  "6": "775",
                  "7": "2864",
                  "8": "false",
                  "9": "1745927599723831695",
                  "10": "2024-01-12",
                  "11": "21:55:52",
                  "12": "true",
                  "13": "11282",
                  "14": "9",
                  "15": "10",
                  "16": "1",
                  "17": "110",
                  "18": "false",
                  "19": "$NVDA beautiful weekly chart\n\nNvidia closed the week at $547, up 11.6% from last week, vs $QQQ up 3.2%.\n\nAt FY 2025 EPS est. of $19.88 the stock is trading at forward PE of 27.5.\n\nForward PE of some other stocks:\n- $AMD: 38\n- $TSLA: 56\n- $AAPL: 26\n- $INTC: 25\n\nNvidia is still… https://t.co/GeEN0jIqzw"
                },
                {
                  "0": "VXNlcjoyMzE3ODc2NTAw",
                  "1": "true",
                  "2": "2014-01-29",
                  "3": "165745",
                  "4": "1184",
                  "5": "17359",
                  "6": "748",
                  "7": "3962",
                  "8": "false",
                  "9": "1745909813459005894",
                  "10": "2024-01-12",
                  "11": "20:45:11",
                  "12": "true",
                  "13": "4157",
                  "14": "2",
                  "15": "1",
                  "16": "0",
                  "17": "12",
                  "18": "false",
                  "19": "$NVDA hits ATH’s for a fourth straight day. All eyes watching to see if the tech giant will have another record day tomorrow. 👀🔥 #OptionsFlow #OptionsTrading https://t.co/4cCVUkT6mJ"
                },
                {
                  "0": "VXNlcjoyMzIyMzU5OTUy",
                  "1": "false",
                  "2": "2014-02-01",
                  "3": "1576",
                  "4": "903",
                  "5": "16874",
                  "6": "25",
                  "7": "12662",
                  "8": "false",
                  "9": "1745853070343385135",
                  "10": "2024-01-12",
                  "11": "16:59:43",
                  "12": "true",
                  "13": "742",
                  "14": "0",
                  "15": "0",
                  "16": "0",
                  "17": "2",
                  "18": "false",
                  "19": "$GNS .26 - Genius Group  is down 50% on Financing NEWS at .35!  GAP in chart to fill?\n\n$PLAY $NKLA $INO $DKNG $PTON $WKHS $SPAQ $JCPNQ $BA $BBIG $ABVC $CDIO $NEXI\n$AMZN $TSLA $WMT $TGT $NVDA $SPY $GLD $EBAY $AAPL $FB $TWTR $GS $S $GOOG $DIS  $IBM $MSFT https://t.co/PCdCP0T2aT"
                },
                {
                  "0": "VXNlcjoxNTQ2MTY4ODQ0OTU5MzcxMjY2",
                  "1": "false",
                  "2": "2022-07-10",
                  "3": "677",
                  "4": "27",
                  "5": "2549",
                  "6": "5",
                  "7": "3618",
                  "8": "false",
                  "9": "1745892052477641105",
                  "10": "2024-01-12",
                  "11": "19:34:37",
                  "12": "true",
                  "13": "2787",
                  "14": "1",
                  "15": "4",
                  "16": "1",
                  "17": "3",
                  "18": "false",
                  "19": "Live Screen Sharing Session was Lit\n\nI called out each and every play in real-time. Those on that call can attest to it\n\n$SPY $QQQ $VIX $AAPL $MSFT $NVDA $TSLA $META $GOOG $SNOW $ENPH $AMD $BABA $UPST $COST $WMT $NFLX $AMZN $BTC #BTC $GOLD #GOLD $ABNB $INTC $BA  $HD $LULU $SPX https://t.co/CalniDY55Z"
                }
              ],
              "schema": [
                {
                  "key": "0",
                  "name": "user_id",
                  "type": "string"
                },
                {
                  "key": "1",
                  "name": "is_blue_verified",
                  "type": "boolean"
                },
                {
                  "key": "2",
                  "name": "account_created_at",
                  "type": "date"
                },
                {
                  "key": "3",
                  "name": "followers_count",
                  "type": "int"
                },
                {
                  "key": "4",
                  "name": "friends_count",
                  "type": "int"
                },
                {
                  "key": "5",
                  "name": "account_favourites_count",
                  "type": "int"
                },
                {
                  "key": "6",
                  "name": "listed_count",
                  "type": "int"
                },
                {
                  "key": "7",
                  "name": "media_count",
                  "type": "int"
                },
                {
                  "key": "8",
                  "name": "account_possibly_sensitive",
                  "type": "boolean"
                },
                {
                  "key": "9",
                  "name": "rest_id",
                  "type": "string"
                },
                {
                  "key": "10",
                  "name": "tweet_created_at_date",
                  "type": "date"
                },
                {
                  "key": "11",
                  "name": "tweet_created_at_time",
                  "type": "string"
                },
                {
                  "key": "12",
                  "name": "Is_weekend",
                  "type": "boolean"
                },
                {
                  "key": "13",
                  "name": "view_count",
                  "type": "string"
                },
                {
                  "key": "14",
                  "name": "retweet_count",
                  "type": "int"
                },
                {
                  "key": "15",
                  "name": "reply_count",
                  "type": "int"
                },
                {
                  "key": "16",
                  "name": "quote_count",
                  "type": "int"
                },
                {
                  "key": "17",
                  "name": "favorite_count",
                  "type": "int"
                },
                {
                  "key": "18",
                  "name": "tweet_possibly_sensitive",
                  "type": "boolean"
                },
                {
                  "key": "19",
                  "name": "full_text",
                  "type": "string"
                }
              ],
              "truncated": false
            },
            "isSummary": false,
            "language": "scala",
            "wranglerEntryContext": {
              "dataframeType": "pyspark"
            }
          },
          "persist_state": {
            "view": {
              "type": "details",
              "tableOptions": {},
              "chartOptions": {
                "chartType": "bar",
                "aggregationType": "sum",
                "categoryFieldKeys": [
                  "0"
                ],
                "seriesFieldKeys": [
                  "3"
                ],
                "isStacked": false
              }
            }
          }
        },
        "34016a5a-4e60-480c-8fc6-bf73c41264bb": {
          "type": "Synapse.DataFrame",
          "sync_state": {
            "table": {
              "rows": [
                {
                  "0": "2024-03-01",
                  "1": "82.24810791015625",
                  "2": "82.26910374751212",
                  "3": "79.40517391258761",
                  "4": "79.96996422541928",
                  "5": "479135000"
                },
                {
                  "0": "2024-03-04",
                  "1": "85.20500183105469",
                  "2": "87.66207928922401",
                  "3": "83.6875739405617",
                  "4": "84.09841513764894",
                  "5": "615616000"
                },
                {
                  "0": "2024-03-05",
                  "1": "85.93576049804688",
                  "2": "86.06872004565462",
                  "3": "83.38960003379123",
                  "4": "85.24198821051228",
                  "5": "520639000"
                },
                {
                  "0": "2024-03-06",
                  "1": "88.67086029052734",
                  "2": "89.69452599594824",
                  "3": "87.00141069166892",
                  "4": "87.99308922719804",
                  "5": "582520000"
                },
                {
                  "0": "2024-03-07",
                  "1": "92.6385498046875",
                  "2": "92.73651717702312",
                  "3": "89.57255620841083",
                  "4": "90.12837327546654",
                  "5": "608119000"
                },
                {
                  "0": "2024-03-08",
                  "1": "87.49925231933594",
                  "2": "97.36801162259309",
                  "3": "86.47758481062256",
                  "4": "95.10675351305797",
                  "5": "1142269000"
                },
                {
                  "0": "2024-03-11",
                  "1": "85.74581909179688",
                  "2": "88.76782081371123",
                  "3": "84.13834572804967",
                  "4": "86.40060265646838",
                  "5": "678364000"
                },
                {
                  "0": "2024-03-12",
                  "1": "91.88280487060547",
                  "2": "91.92978650047704",
                  "3": "86.1216977613809",
                  "4": "88.02007593748665",
                  "5": "668075000"
                },
                {
                  "0": "2024-03-13",
                  "1": "90.85814666748047",
                  "2": "91.473941646385",
                  "3": "88.40594947132757",
                  "4": "91.02509163024045",
                  "5": "635713000"
                },
                {
                  "0": "2024-03-14",
                  "1": "87.91510772705078",
                  "2": "90.61622350841212",
                  "3": "86.57154750613068",
                  "4": "89.54757446626068",
                  "5": "602318000"
                }
              ],
              "schema": [
                {
                  "key": "0",
                  "name": "Date",
                  "type": "date"
                },
                {
                  "key": "1",
                  "name": "Close",
                  "type": "double"
                },
                {
                  "key": "2",
                  "name": "High",
                  "type": "double"
                },
                {
                  "key": "3",
                  "name": "Low",
                  "type": "double"
                },
                {
                  "key": "4",
                  "name": "Open",
                  "type": "double"
                },
                {
                  "key": "5",
                  "name": "Volume",
                  "type": "int"
                }
              ],
              "truncated": false
            },
            "isSummary": false,
            "language": "scala",
            "wranglerEntryContext": {
              "dataframeType": "pyspark"
            }
          },
          "persist_state": {
            "view": {
              "type": "details",
              "tableOptions": {},
              "chartOptions": {
                "chartType": "bar",
                "aggregationType": "sum",
                "categoryFieldKeys": [
                  "0"
                ],
                "seriesFieldKeys": [
                  "1"
                ],
                "isStacked": false
              }
            }
          }
        },
        "cee59a37-9633-4815-8c31-40cf5b4f4b39": {
          "type": "Synapse.DataFrame",
          "sync_state": {
            "table": {
              "rows": [
                {
                  "0": "VXNlcjo1NjI5OTU5OTE=",
                  "1": "true",
                  "2": "2012-04-25",
                  "3": "44327",
                  "4": "169",
                  "5": "5660",
                  "6": "911",
                  "7": "4792",
                  "8": "false",
                  "9": "1745854202658599294",
                  "10": "2024-01-12",
                  "11": "17:04:12",
                  "12": "true",
                  "13": "17348",
                  "14": "4",
                  "15": "5",
                  "16": "0",
                  "17": "19",
                  "18": "false",
                  "19": "Shares of $NVDA are up 12% this week alone, after more than tripling last year. But it's not hard to argue that it's still cheap. Nvidia's meteoric rise actually lagged fundamental growth of the business - earnings nearly quadrupled. @dee_bosa on whether Nvidia can run it back.",
                  "20": "0.5716",
                  "21": "1769.3000000000002",
                  "22": "0.0010951639863969105",
                  "23": "1.0",
                  "24": "4758",
                  "25": "25.73498824890335",
                  "26": "2.3876864887581424",
                  "27": "Friday",
                  "28": "false",
                  "29": "false",
                  "30": "true",
                  "31": "false",
                  "32": "352994000",
                  "33": "54.59949057976511",
                  "34": "54.689456939697266",
                  "35": "54.94936145206347",
                  "36": "54.30960236510811"
                },
                {
                  "0": "VXNlcjoxNjM1Nzg2OTAw",
                  "1": "true",
                  "2": "2013-07-31",
                  "3": "16858",
                  "4": "605",
                  "5": "8255",
                  "6": "297",
                  "7": "3734",
                  "8": "false",
                  "9": "1745901018238296118",
                  "10": "2024-01-12",
                  "11": "20:10:14",
                  "12": "true",
                  "13": "1252",
                  "14": "1",
                  "15": "3",
                  "16": "0",
                  "17": "7",
                  "18": "false",
                  "19": "$NVDA Big 3 Squeeze Setup 🚀 With @taylor_horton24 ✅ Took profits near $550 target 💰 Used profits to open a new trade 🚨 Alerted in the Compounding Growth Mastery LAST CHANCE: Get 30% off the Big 3 Squeeze today, and get access to Taylor's new Slingshot Indicator update next…",
                  "20": "0.8788",
                  "21": "138.7",
                  "22": "0.00558659217877095",
                  "23": "1.5",
                  "24": "4296",
                  "25": "23.50250293151443",
                  "26": "2.859204095880847",
                  "27": "Friday",
                  "28": "false",
                  "29": "false",
                  "30": "true",
                  "31": "false",
                  "32": "352994000",
                  "33": "54.59949057976511",
                  "34": "54.689456939697266",
                  "35": "54.94936145206347",
                  "36": "54.30960236510811"
                },
                {
                  "0": "VXNlcjoxNjQzMzIzODExNTQwOTQyODQ5",
                  "1": "true",
                  "2": "2023-04-04",
                  "3": "36346",
                  "4": "182",
                  "5": "2664",
                  "6": "139",
                  "7": "2795",
                  "8": "false",
                  "9": "1745926589185929383",
                  "10": "2024-01-12",
                  "11": "21:51:51",
                  "12": "true",
                  "13": "923",
                  "14": "1",
                  "15": "1",
                  "16": "0",
                  "17": "2",
                  "18": "false",
                  "19": "Today's Top Predictor is @PaperGainsInc from Team @RJRCapital / @StockMKTNewz . See his predictions from $META, $GOOGL, and $NVDA and follow him to see more!",
                  "20": "0.2714",
                  "21": "97.80000000000001",
                  "22": "0.0021645021645021645",
                  "23": "0.5",
                  "24": "762",
                  "25": "14.588538181483406",
                  "26": "7.336828309305374",
                  "27": "Friday",
                  "28": "false",
                  "29": "true",
                  "30": "true",
                  "31": "false",
                  "32": "352994000",
                  "33": "54.59949057976511",
                  "34": "54.689456939697266",
                  "35": "54.94936145206347",
                  "36": "54.30960236510811"
                },
                {
                  "0": "VXNlcjoxMDY0NzAwMzA4",
                  "1": "true",
                  "2": "2013-01-06",
                  "3": "104852",
                  "4": "2352",
                  "5": "51833",
                  "6": "2395",
                  "7": "18630",
                  "8": "false",
                  "9": "1745950233148768336",
                  "10": "2024-01-12",
                  "11": "23:25:48",
                  "12": "true",
                  "13": "12487",
                  "14": "16",
                  "15": "8",
                  "16": "1",
                  "17": "117",
                  "18": "false",
                  "19": "Of the top 25 market caps, 13 put in 52-week or longer weekly closing highs today. A good start to the year for big caps. $AMZN $COST $GOOG $GOOGL $HD $LLY $MA $META $MRK $MSFT $NVDA $NVO $V",
                  "20": "0.5719",
                  "21": "1410.9",
                  "22": "0.009368994234465087",
                  "23": "0.47058823529411764",
                  "24": "4502",
                  "25": "25.894561223566498",
                  "26": "16.179880079946702",
                  "27": "Friday",
                  "28": "false",
                  "29": "false",
                  "30": "true",
                  "31": "false",
                  "32": "352994000",
                  "33": "54.59949057976511",
                  "34": "54.689456939697266",
                  "35": "54.94936145206347",
                  "36": "54.30960236510811"
                },
                {
                  "0": "VXNlcjoxMzE3MDA3MTI1Nzc2OTAwMDk3",
                  "1": "true",
                  "2": "2020-10-16",
                  "3": "5216",
                  "4": "217",
                  "5": "3343",
                  "6": "86",
                  "7": "3155",
                  "8": "false",
                  "9": "1745815074747396199",
                  "10": "2024-01-12",
                  "11": "14:28:44",
                  "12": "true",
                  "13": "541",
                  "14": "1",
                  "15": "1",
                  "16": "0",
                  "17": "4",
                  "18": "false",
                  "19": "This Week @CobbsCapital We profited off $NVDA by: •Quickly assessing the spike in average volume •Confirming the break + hold of 500 •Letting the trade run from support to resistance That’s how we made 160% gains That’s also how we made +$1,215/hour💰",
                  "20": "0.7506",
                  "21": "61.6",
                  "22": "0.007380073800738007",
                  "23": "0.5",
                  "24": "1662",
                  "25": "15.11310246055664",
                  "26": "3.9591100420926035",
                  "27": "Friday",
                  "28": "false",
                  "29": "false",
                  "30": "true",
                  "31": "false",
                  "32": "352994000",
                  "33": "54.59949057976511",
                  "34": "54.689456939697266",
                  "35": "54.94936145206347",
                  "36": "54.30960236510811"
                },
                {
                  "0": "VXNlcjoxNDEyNDAyNDYxNDYyMTE4NDAw",
                  "1": "true",
                  "2": "2021-07-06",
                  "3": "10413",
                  "4": "43",
                  "5": "926",
                  "6": "200",
                  "7": "3381",
                  "8": "false",
                  "9": "1745947896204169601",
                  "10": "2024-01-12",
                  "11": "23:16:31",
                  "12": "true",
                  "13": "53241",
                  "14": "9",
                  "15": "14",
                  "16": "3",
                  "17": "43",
                  "18": "false",
                  "19": "Check out Episode #1 featuring @InvestorsLive here: Topics: - Bitcoin ETF News, Rumors, and Blunders - Thoughts on the $NVDA $500 Breakout - How to Trade Boeing $BA Bad News - Tiger Woods Leaves $NKE (and $ONON Rumors) - Trading Themes That Worked Well…",
                  "20": "-0.5423",
                  "21": "5409.700000000001",
                  "22": "8.076330716351752E-4",
                  "23": "1.4",
                  "24": "1399",
                  "25": "15.083783046051611",
                  "26": "3.2192857142857143",
                  "27": "Friday",
                  "28": "true",
                  "29": "false",
                  "30": "true",
                  "31": "false",
                  "32": "352994000",
                  "33": "54.59949057976511",
                  "34": "54.689456939697266",
                  "35": "54.94936145206347",
                  "36": "54.30960236510811"
                },
                {
                  "0": "VXNlcjoxMzA3NDExNjU2Nzg0Mjc3NTA0",
                  "1": "true",
                  "2": "2020-09-19",
                  "3": "54805",
                  "4": "798",
                  "5": "15873",
                  "6": "775",
                  "7": "2864",
                  "8": "false",
                  "9": "1745927599723831695",
                  "10": "2024-01-12",
                  "11": "21:55:52",
                  "12": "true",
                  "13": "11282",
                  "14": "9",
                  "15": "10",
                  "16": "1",
                  "17": "110",
                  "18": "false",
                  "19": "$NVDA beautiful weekly chart Nvidia closed the week at $547, up 11.6% from last week, vs $QQQ up 3.2%. At FY 2025 EPS est. of $19.88 the stock is trading at forward PE of 27.5. Forward PE of some other stocks: - $AMD: 38 - $TSLA: 56 - $AAPL: 26 - $INTC: 25 Nvidia is still…",
                  "20": "0.5994",
                  "21": "1272.4",
                  "22": "0.009749180182575557",
                  "23": "1.0",
                  "24": "1689",
                  "25": "17.538952216267685",
                  "26": "11.545562130177515",
                  "27": "Friday",
                  "28": "false",
                  "29": "false",
                  "30": "true",
                  "31": "false",
                  "32": "352994000",
                  "33": "54.59949057976511",
                  "34": "54.689456939697266",
                  "35": "54.94936145206347",
                  "36": "54.30960236510811"
                },
                {
                  "0": "VXNlcjoyMzE3ODc2NTAw",
                  "1": "true",
                  "2": "2014-01-29",
                  "3": "165745",
                  "4": "1184",
                  "5": "17359",
                  "6": "748",
                  "7": "3962",
                  "8": "false",
                  "9": "1745909813459005894",
                  "10": "2024-01-12",
                  "11": "20:45:11",
                  "12": "true",
                  "13": "4157",
                  "14": "2",
                  "15": "1",
                  "16": "0",
                  "17": "12",
                  "18": "false",
                  "19": "$NVDA hits ATH’s for a fourth straight day. All eyes watching to see if the tech giant will have another record day tomorrow. 👀🔥 #OptionsFlow #OptionsTrading",
                  "20": "0.2263",
                  "21": "433.20000000000005",
                  "22": "0.002886002886002886",
                  "23": "0.3333333333333333",
                  "24": "4114",
                  "25": "25.289444651739224",
                  "26": "5.363061968408262",
                  "27": "Friday",
                  "28": "false",
                  "29": "false",
                  "30": "true",
                  "31": "false",
                  "32": "352994000",
                  "33": "54.59949057976511",
                  "34": "54.689456939697266",
                  "35": "54.94936145206347",
                  "36": "54.30960236510811"
                },
                {
                  "0": "VXNlcjoyMzIyMzU5OTUy",
                  "1": "false",
                  "2": "2014-02-01",
                  "3": "1576",
                  "4": "903",
                  "5": "16874",
                  "6": "25",
                  "7": "12662",
                  "8": "false",
                  "9": "1745853070343385135",
                  "10": "2024-01-12",
                  "11": "16:59:43",
                  "12": "true",
                  "13": "742",
                  "14": "0",
                  "15": "0",
                  "16": "0",
                  "17": "2",
                  "18": "false",
                  "19": "$GNS .26 - Genius Group is down 50% on Financing NEWS at .35! GAP in chart to fill? $PLAY $NKLA $INO $DKNG $PTON $WKHS $SPAQ $JCPNQ $BA $BBIG $ABVC $CDIO $NEXI $AMZN $TSLA $WMT $TGT $NVDA $SPY $GLD $EBAY $AAPL $FB $TWTR $GS $S $GOOG $DIS $IBM $MSFT",
                  "20": "0.0",
                  "21": "76.2",
                  "22": "0.0026917900403768506",
                  "23": "0.0",
                  "24": "4111",
                  "25": "18.626293285593178",
                  "26": "7.188959143968872",
                  "27": "Friday",
                  "28": "false",
                  "29": "false",
                  "30": "false",
                  "31": "false",
                  "32": "352994000",
                  "33": "54.59949057976511",
                  "34": "54.689456939697266",
                  "35": "54.94936145206347",
                  "36": "54.30960236510811"
                },
                {
                  "0": "VXNlcjoxNTQ2MTY4ODQ0OTU5MzcxMjY2",
                  "1": "false",
                  "2": "2022-07-10",
                  "3": "677",
                  "4": "27",
                  "5": "2549",
                  "6": "5",
                  "7": "3618",
                  "8": "false",
                  "9": "1745892052477641105",
                  "10": "2024-01-12",
                  "11": "19:34:37",
                  "12": "true",
                  "13": "2787",
                  "14": "1",
                  "15": "4",
                  "16": "1",
                  "17": "3",
                  "18": "false",
                  "19": "Live Screen Sharing Session was Lit I called out each and every play in real-time. Those on that call can attest to it $SPY $QQQ $VIX $AAPL $MSFT $NVDA $TSLA $META $GOOG $SNOW $ENPH $AMD $BABA $UPST $COST $WMT $NFLX $AMZN $BTC #BTC $GOLD #GOLD $ABNB $INTC $BA $HD $LULU $SPX",
                  "20": "0.6369",
                  "21": "290.9",
                  "22": "0.0010760401721664275",
                  "23": "2.0",
                  "24": "1030",
                  "25": "9.341065096159573",
                  "26": "5.9864209505334625",
                  "27": "Friday",
                  "28": "false",
                  "29": "false",
                  "30": "false",
                  "31": "false",
                  "32": "352994000",
                  "33": "54.59949057976511",
                  "34": "54.689456939697266",
                  "35": "54.94936145206347",
                  "36": "54.30960236510811"
                }
              ],
              "schema": [
                {
                  "key": "0",
                  "name": "user_id",
                  "type": "string"
                },
                {
                  "key": "1",
                  "name": "is_blue_verified",
                  "type": "boolean"
                },
                {
                  "key": "2",
                  "name": "account_created_at",
                  "type": "date"
                },
                {
                  "key": "3",
                  "name": "followers_count",
                  "type": "int"
                },
                {
                  "key": "4",
                  "name": "friends_count",
                  "type": "int"
                },
                {
                  "key": "5",
                  "name": "account_favourites_count",
                  "type": "int"
                },
                {
                  "key": "6",
                  "name": "listed_count",
                  "type": "int"
                },
                {
                  "key": "7",
                  "name": "media_count",
                  "type": "int"
                },
                {
                  "key": "8",
                  "name": "account_possibly_sensitive",
                  "type": "boolean"
                },
                {
                  "key": "9",
                  "name": "rest_id",
                  "type": "string"
                },
                {
                  "key": "10",
                  "name": "tweet_created_at_date",
                  "type": "date"
                },
                {
                  "key": "11",
                  "name": "tweet_created_at_time",
                  "type": "string"
                },
                {
                  "key": "12",
                  "name": "Is_weekend",
                  "type": "boolean"
                },
                {
                  "key": "13",
                  "name": "view_count",
                  "type": "string"
                },
                {
                  "key": "14",
                  "name": "retweet_count",
                  "type": "int"
                },
                {
                  "key": "15",
                  "name": "reply_count",
                  "type": "int"
                },
                {
                  "key": "16",
                  "name": "quote_count",
                  "type": "int"
                },
                {
                  "key": "17",
                  "name": "favorite_count",
                  "type": "int"
                },
                {
                  "key": "18",
                  "name": "tweet_possibly_sensitive",
                  "type": "boolean"
                },
                {
                  "key": "19",
                  "name": "full_text",
                  "type": "string"
                },
                {
                  "key": "20",
                  "name": "sentiment_score",
                  "type": "double"
                },
                {
                  "key": "21",
                  "name": "interaction_score",
                  "type": "double"
                },
                {
                  "key": "22",
                  "name": "favorite_ratio",
                  "type": "double"
                },
                {
                  "key": "23",
                  "name": "reply_ratio",
                  "type": "double"
                },
                {
                  "key": "24",
                  "name": "account_age_days",
                  "type": "int"
                },
                {
                  "key": "25",
                  "name": "credibility_score",
                  "type": "double"
                },
                {
                  "key": "26",
                  "name": "follower_activity_score",
                  "type": "double"
                },
                {
                  "key": "27",
                  "name": "day_of_week",
                  "type": "string"
                },
                {
                  "key": "28",
                  "name": "is_viral",
                  "type": "boolean"
                },
                {
                  "key": "29",
                  "name": "is_new_account",
                  "type": "boolean"
                },
                {
                  "key": "30",
                  "name": "is_influencer",
                  "type": "boolean"
                },
                {
                  "key": "31",
                  "name": "is_holiday",
                  "type": "boolean"
                },
                {
                  "key": "32",
                  "name": "current_volume",
                  "type": "int"
                },
                {
                  "key": "33",
                  "name": "current_open",
                  "type": "double"
                },
                {
                  "key": "34",
                  "name": "current_close",
                  "type": "double"
                },
                {
                  "key": "35",
                  "name": "current_high",
                  "type": "double"
                },
                {
                  "key": "36",
                  "name": "current_low",
                  "type": "double"
                }
              ],
              "truncated": false
            },
            "isSummary": false,
            "language": "scala",
            "wranglerEntryContext": {
              "dataframeType": "pyspark"
            }
          },
          "persist_state": {
            "view": {
              "type": "details",
              "tableOptions": {},
              "chartOptions": {
                "chartType": "bar",
                "aggregationType": "sum",
                "categoryFieldKeys": [
                  "0"
                ],
                "seriesFieldKeys": [
                  "3"
                ],
                "isStacked": false
              }
            }
          }
        }
      }
    }
  },
  "cells": [
    {
      "cell_type": "code",
      "execution_count": 1,
      "outputs": [
        {
          "output_type": "display_data",
          "data": {
            "application/vnd.livy.statement-meta+json": {
              "spark_pool": "stockPredict",
              "statement_id": 6,
              "statement_ids": [
                2,
                3,
                4,
                5,
                6
              ],
              "state": "finished",
              "livy_statement_state": "available",
              "spark_jobs": null,
              "session_id": "37",
              "normalized_state": "finished",
              "queued_time": "2025-05-05T20:58:35.2267478Z",
              "session_start_time": "2025-05-05T20:58:35.2270669Z",
              "execution_start_time": "2025-05-05T21:02:00.2606109Z",
              "execution_finish_time": "2025-05-05T21:02:31.0782906Z",
              "parent_msg_id": "e70f4622-4dc2-4343-9ca5-f9fc0c2c7538"
            },
            "text/plain": "StatementMeta(stockPredict, 37, 6, Finished, Available, Finished)"
          },
          "metadata": {}
        },
        {
          "output_type": "execute_result",
          "data": {},
          "execution_count": 1,
          "metadata": {}
        },
        {
          "output_type": "stream",
          "name": "stdout",
          "text": [
            "Collecting nltk\n  Downloading nltk-3.9.1-py3-none-any.whl (1.5 MB)\n\u001b[2K     \u001b[90m━━━━━━━━━━━━━━━━━━━━━━━━━━━━━━━━━━━━━━━━\u001b[0m \u001b[32m1.5/1.5 MB\u001b[0m \u001b[31m38.8 MB/s\u001b[0m eta \u001b[36m0:00:00\u001b[0m00:01\u001b[0m\n\u001b[?25hRequirement already satisfied: click in /home/trusted-service-user/cluster-env/env/lib/python3.10/site-packages (from nltk) (8.1.7)\nRequirement already satisfied: joblib in /home/trusted-service-user/cluster-env/env/lib/python3.10/site-packages (from nltk) (1.3.2)\nRequirement already satisfied: regex>=2021.8.3 in /home/trusted-service-user/cluster-env/env/lib/python3.10/site-packages (from nltk) (2023.12.25)\nRequirement already satisfied: tqdm in /home/trusted-service-user/cluster-env/env/lib/python3.10/site-packages (from nltk) (4.66.2)\nInstalling collected packages: nltk\nSuccessfully installed nltk-3.9.1\n\n\u001b[1m[\u001b[0m\u001b[34;49mnotice\u001b[0m\u001b[1;39;49m]\u001b[0m\u001b[39;49m A new release of pip is available: \u001b[0m\u001b[31;49m23.1.2\u001b[0m\u001b[39;49m -> \u001b[0m\u001b[32;49m25.1.1\u001b[0m\n\u001b[1m[\u001b[0m\u001b[34;49mnotice\u001b[0m\u001b[1;39;49m]\u001b[0m\u001b[39;49m To update, run: \u001b[0m\u001b[32;49mpython -m pip install --upgrade pip\u001b[0m\nNote: you may need to restart the kernel to use updated packages.\n"
          ]
        },
        {
          "output_type": "execute_result",
          "data": {},
          "execution_count": 1,
          "metadata": {}
        },
        {
          "output_type": "stream",
          "name": "stdout",
          "text": [
            "Warning: PySpark kernel has been restarted to use updated packages.\n\n"
          ]
        }
      ],
      "metadata": {},
      "source": [
        "%pip install nltk"
      ]
    },
    {
      "cell_type": "code",
      "execution_count": 2,
      "outputs": [
        {
          "output_type": "display_data",
          "data": {
            "application/vnd.livy.statement-meta+json": {
              "spark_pool": "stockPredict",
              "statement_id": 12,
              "statement_ids": [
                8,
                9,
                10,
                11,
                12
              ],
              "state": "finished",
              "livy_statement_state": "available",
              "spark_jobs": null,
              "session_id": "37",
              "normalized_state": "finished",
              "queued_time": "2025-05-05T21:07:49.2968665Z",
              "session_start_time": null,
              "execution_start_time": "2025-05-05T21:07:49.2973272Z",
              "execution_finish_time": "2025-05-05T21:08:02.1512491Z",
              "parent_msg_id": "39903a16-eabd-47db-95a6-29cf50354231"
            },
            "text/plain": "StatementMeta(stockPredict, 37, 12, Finished, Available, Finished)"
          },
          "metadata": {}
        },
        {
          "output_type": "execute_result",
          "data": {},
          "execution_count": 2,
          "metadata": {}
        },
        {
          "output_type": "stream",
          "name": "stdout",
          "text": [
            "Collecting pandas_market_calendars\n  Downloading pandas_market_calendars-5.1.0-py3-none-any.whl (123 kB)\n\u001b[2K     \u001b[90m━━━━━━━━━━━━━━━━━━━━━━━━━━━━━━━━━━━━━━━\u001b[0m \u001b[32m123.9/123.9 kB\u001b[0m \u001b[31m7.8 MB/s\u001b[0m eta \u001b[36m0:00:00\u001b[0m\n\u001b[?25hRequirement already satisfied: pandas>=1.1 in /home/trusted-service-user/cluster-env/env/lib/python3.10/site-packages (from pandas_market_calendars) (1.5.3)\nCollecting tzdata (from pandas_market_calendars)\n  Downloading tzdata-2025.2-py2.py3-none-any.whl (347 kB)\n\u001b[2K     \u001b[90m━━━━━━━━━━━━━━━━━━━━━━━━━━━━━━━━━━━━━━\u001b[0m \u001b[32m347.8/347.8 kB\u001b[0m \u001b[31m35.3 MB/s\u001b[0m eta \u001b[36m0:00:00\u001b[0m\n\u001b[?25hRequirement already satisfied: python-dateutil in /home/trusted-service-user/cluster-env/env/lib/python3.10/site-packages (from pandas_market_calendars) (2.9.0)\nCollecting exchange-calendars>=3.3 (from pandas_market_calendars)\n  Downloading exchange_calendars-4.10-py3-none-any.whl (198 kB)\n\u001b[2K     \u001b[90m━━━━━━━━━━━━━━━━━━━━━━━━━━━━━━━━━━━━━━\u001b[0m \u001b[32m198.4/198.4 kB\u001b[0m \u001b[31m54.5 MB/s\u001b[0m eta \u001b[36m0:00:00\u001b[0m\n\u001b[?25hRequirement already satisfied: numpy in /home/trusted-service-user/cluster-env/env/lib/python3.10/site-packages (from exchange-calendars>=3.3->pandas_market_calendars) (1.23.5)\nCollecting pyluach (from exchange-calendars>=3.3->pandas_market_calendars)\n  Downloading pyluach-2.2.0-py3-none-any.whl (25 kB)\nRequirement already satisfied: toolz in /home/trusted-service-user/cluster-env/env/lib/python3.10/site-packages (from exchange-calendars>=3.3->pandas_market_calendars) (0.12.1)\nCollecting korean_lunar_calendar (from exchange-calendars>=3.3->pandas_market_calendars)\n  Downloading korean_lunar_calendar-0.3.1-py3-none-any.whl (9.0 kB)\nRequirement already satisfied: pytz>=2020.1 in /home/trusted-service-user/cluster-env/env/lib/python3.10/site-packages (from pandas>=1.1->pandas_market_calendars) (2023.4)\nRequirement already satisfied: six>=1.5 in /home/trusted-service-user/cluster-env/env/lib/python3.10/site-packages (from python-dateutil->pandas_market_calendars) (1.16.0)\nInstalling collected packages: korean_lunar_calendar, tzdata, pyluach, exchange-calendars, pandas_market_calendars\nSuccessfully installed exchange-calendars-4.10 korean_lunar_calendar-0.3.1 pandas_market_calendars-5.1.0 pyluach-2.2.0 tzdata-2025.2\n\n\u001b[1m[\u001b[0m\u001b[34;49mnotice\u001b[0m\u001b[1;39;49m]\u001b[0m\u001b[39;49m A new release of pip is available: \u001b[0m\u001b[31;49m23.1.2\u001b[0m\u001b[39;49m -> \u001b[0m\u001b[32;49m25.1.1\u001b[0m\n\u001b[1m[\u001b[0m\u001b[34;49mnotice\u001b[0m\u001b[1;39;49m]\u001b[0m\u001b[39;49m To update, run: \u001b[0m\u001b[32;49mpython -m pip install --upgrade pip\u001b[0m\nNote: you may need to restart the kernel to use updated packages.\n"
          ]
        },
        {
          "output_type": "execute_result",
          "data": {},
          "execution_count": 2,
          "metadata": {}
        },
        {
          "output_type": "stream",
          "name": "stdout",
          "text": [
            "Warning: PySpark kernel has been restarted to use updated packages.\n\n"
          ]
        }
      ],
      "metadata": {},
      "source": [
        "%pip install pandas_market_calendars"
      ]
    },
    {
      "cell_type": "code",
      "execution_count": 3,
      "outputs": [
        {
          "output_type": "display_data",
          "data": {
            "application/vnd.livy.statement-meta+json": {
              "spark_pool": "stockPredict",
              "statement_id": 14,
              "statement_ids": [
                14
              ],
              "state": "finished",
              "livy_statement_state": "available",
              "spark_jobs": null,
              "session_id": "37",
              "normalized_state": "finished",
              "queued_time": "2025-05-05T21:08:28.0195175Z",
              "session_start_time": null,
              "execution_start_time": "2025-05-05T21:08:31.7022761Z",
              "execution_finish_time": "2025-05-05T21:08:31.9361836Z",
              "parent_msg_id": "576c7e46-fee7-4025-b857-eb3cbc090102"
            },
            "text/plain": "StatementMeta(stockPredict, 37, 14, Finished, Available, Finished)"
          },
          "metadata": {}
        }
      ],
      "metadata": {},
      "source": [
        "# Set up the configuration for accessing the storage account\n",
        "storage_account_name = \"team12storage\"\n",
        "storage_account_key = \"ZdpCqxRwuQbJ8fUYN7EMbTLjOyj+I9rI6IjcQ/uU+4aFG46TQqjiz1Piq9SWKGkkjszo3r94l26M+AStR5PvPg==\"\n",
        "\n",
        "spark.conf.set(\n",
        "    \"fs.azure.account.key.\" + storage_account_name + \".dfs.core.windows.net\",\n",
        "    storage_account_key\n",
        ")"
      ]
    },
    {
      "cell_type": "code",
      "execution_count": 4,
      "outputs": [
        {
          "output_type": "display_data",
          "data": {
            "application/vnd.livy.statement-meta+json": {
              "spark_pool": "stockPredict",
              "statement_id": 15,
              "statement_ids": [
                15
              ],
              "state": "finished",
              "livy_statement_state": "available",
              "spark_jobs": null,
              "session_id": "37",
              "normalized_state": "finished",
              "queued_time": "2025-05-05T21:08:36.1370677Z",
              "session_start_time": null,
              "execution_start_time": "2025-05-05T21:08:36.1382247Z",
              "execution_finish_time": "2025-05-05T21:09:00.9887538Z",
              "parent_msg_id": "99420296-f23c-49f9-9a45-c01d2d0dfc78"
            },
            "text/plain": "StatementMeta(stockPredict, 37, 15, Finished, Available, Finished)"
          },
          "metadata": {}
        },
        {
          "output_type": "display_data",
          "data": {
            "application/vnd.synapse.widget-view+json": {
              "widget_id": "8ddd6b57-cbd6-47ff-a11f-8822c50494b4",
              "widget_type": "Synapse.DataFrame"
            },
            "text/plain": "SynapseWidget(Synapse.DataFrame, 8ddd6b57-cbd6-47ff-a11f-8822c50494b4)"
          },
          "metadata": {}
        }
      ],
      "metadata": {
        "collapsed": false
      },
      "source": [
        "container = \"team12blobcontainer\"\n",
        "abfss_base_path = f\"abfss://{container}@{storage_account_name}.dfs.core.windows.net/\"\n",
        "tweet_df = spark.read.parquet(f\"{abfss_base_path}Medallion/Silver/Tweet_Monthly_Silver/*\")\n",
        "display(tweet_df.limit(10))"
      ]
    },
    {
      "cell_type": "code",
      "execution_count": 95,
      "outputs": [
        {
          "output_type": "display_data",
          "data": {
            "application/vnd.livy.statement-meta+json": {
              "spark_pool": "stockPredict",
              "statement_id": 80,
              "statement_ids": [
                80
              ],
              "state": "finished",
              "livy_statement_state": "available",
              "spark_jobs": null,
              "session_id": "15",
              "normalized_state": "finished",
              "queued_time": "2025-05-03T00:08:46.2500088Z",
              "session_start_time": null,
              "execution_start_time": "2025-05-03T00:08:46.2512329Z",
              "execution_finish_time": "2025-05-03T00:08:46.8186002Z",
              "parent_msg_id": "7d07c609-518d-4238-9b2a-70f89a7ba39f"
            },
            "text/plain": "StatementMeta(stockPredict, 15, 80, Finished, Available, Finished)"
          },
          "metadata": {}
        },
        {
          "output_type": "execute_result",
          "data": {
            "text/plain": "75735"
          },
          "execution_count": 9,
          "metadata": {}
        }
      ],
      "metadata": {},
      "source": [
        "tweet_df.count()"
      ]
    },
    {
      "cell_type": "code",
      "execution_count": 67,
      "outputs": [
        {
          "output_type": "display_data",
          "data": {
            "application/vnd.livy.statement-meta+json": {
              "spark_pool": "stockPredict",
              "statement_id": 47,
              "statement_ids": [
                47
              ],
              "state": "finished",
              "livy_statement_state": "available",
              "spark_jobs": null,
              "session_id": "15",
              "normalized_state": "finished",
              "queued_time": "2025-05-02T23:42:03.8059826Z",
              "session_start_time": null,
              "execution_start_time": "2025-05-02T23:42:03.8071198Z",
              "execution_finish_time": "2025-05-02T23:42:04.0220268Z",
              "parent_msg_id": "e0b3644b-0724-4606-967c-4ca7eaac12a3"
            },
            "text/plain": "StatementMeta(stockPredict, 15, 47, Finished, Available, Finished)"
          },
          "metadata": {}
        },
        {
          "output_type": "stream",
          "name": "stdout",
          "text": [
            "root\n |-- user_id: string (nullable = true)\n |-- is_blue_verified: boolean (nullable = true)\n |-- account_created_at: date (nullable = true)\n |-- followers_count: integer (nullable = true)\n |-- friends_count: integer (nullable = true)\n |-- account_favourites_count: integer (nullable = true)\n |-- listed_count: integer (nullable = true)\n |-- media_count: integer (nullable = true)\n |-- account_possibly_sensitive: boolean (nullable = true)\n |-- rest_id: string (nullable = true)\n |-- tweet_created_at_date: date (nullable = true)\n |-- tweet_created_at_time: string (nullable = true)\n |-- Is_weekend: boolean (nullable = true)\n |-- view_count: string (nullable = true)\n |-- retweet_count: integer (nullable = true)\n |-- reply_count: integer (nullable = true)\n |-- quote_count: integer (nullable = true)\n |-- favorite_count: integer (nullable = true)\n |-- tweet_possibly_sensitive: boolean (nullable = true)\n |-- full_text: string (nullable = true)\n\n"
          ]
        }
      ],
      "metadata": {},
      "source": [
        "tweet_df.printSchema()"
      ]
    },
    {
      "cell_type": "code",
      "execution_count": 5,
      "outputs": [
        {
          "output_type": "display_data",
          "data": {
            "application/vnd.livy.statement-meta+json": {
              "spark_pool": "stockPredict",
              "statement_id": 16,
              "statement_ids": [
                16
              ],
              "state": "finished",
              "livy_statement_state": "available",
              "spark_jobs": null,
              "session_id": "37",
              "normalized_state": "finished",
              "queued_time": "2025-05-05T21:09:04.6743376Z",
              "session_start_time": null,
              "execution_start_time": "2025-05-05T21:09:04.6755567Z",
              "execution_finish_time": "2025-05-05T21:09:51.2058883Z",
              "parent_msg_id": "fa1a5ed9-473b-4d9b-bf5f-768b7e95ff16"
            },
            "text/plain": "StatementMeta(stockPredict, 37, 16, Finished, Available, Finished)"
          },
          "metadata": {}
        },
        {
          "output_type": "stream",
          "name": "stderr",
          "text": [
            "[nltk_data] Downloading package vader_lexicon to /home/trusted-\n[nltk_data]     service-user/nltk_data...\n"
          ]
        },
        {
          "output_type": "stream",
          "name": "stdout",
          "text": [
            "+--------------------------------------------------------------------------------------------------------------------------------------------------------------------------------------------------------------------------------------------------------------------------------------+---------------+\n|full_text                                                                                                                                                                                                                                                                             |sentiment_score|\n+--------------------------------------------------------------------------------------------------------------------------------------------------------------------------------------------------------------------------------------------------------------------------------------+---------------+\n|Shares of $NVDA are up 12% this week alone, after more than tripling last year. But it's not hard to argue that it's still cheap. Nvidia's meteoric rise actually lagged fundamental growth of the business - earnings nearly quadrupled. @dee_bosa on whether Nvidia can run it back.|0.5716         |\n|$NVDA Big 3 Squeeze Setup 🚀 With @taylor_horton24 ✅ Took profits near $550 target 💰 Used profits to open a new trade 🚨 Alerted in the Compounding Growth Mastery LAST CHANCE: Get 30% off the Big 3 Squeeze today, and get access to Taylor's new Slingshot Indicator update next… |0.8788         |\n|Today's Top Predictor is @PaperGainsInc from Team @RJRCapital / @StockMKTNewz . See his predictions from $META, $GOOGL, and $NVDA and follow him to see more!                                                                                                                         |0.2714         |\n|Of the top 25 market caps, 13 put in 52-week or longer weekly closing highs today. A good start to the year for big caps. $AMZN $COST $GOOG $GOOGL $HD $LLY $MA $META $MRK $MSFT $NVDA $NVO $V                                                                                        |0.5719         |\n|This Week @CobbsCapital We profited off $NVDA by: •Quickly assessing the spike in average volume •Confirming the break + hold of 500 •Letting the trade run from support to resistance That’s how we made 160% gains That’s also how we made +$1,215/hour💰                           |0.7506         |\n|Check out Episode #1 featuring @InvestorsLive here: Topics: - Bitcoin ETF News, Rumors, and Blunders - Thoughts on the $NVDA $500 Breakout - How to Trade Boeing $BA Bad News - Tiger Woods Leaves $NKE (and $ONON Rumors) - Trading Themes That Worked Well…                         |-0.5423        |\n|$NVDA beautiful weekly chart Nvidia closed the week at $547, up 11.6% from last week, vs $QQQ up 3.2%. At FY 2025 EPS est. of $19.88 the stock is trading at forward PE of 27.5. Forward PE of some other stocks: - $AMD: 38 - $TSLA: 56 - $AAPL: 26 - $INTC: 25 Nvidia is still…     |0.5994         |\n|$NVDA hits ATH’s for a fourth straight day. All eyes watching to see if the tech giant will have another record day tomorrow. 👀🔥 #OptionsFlow #OptionsTrading                                                                                                                       |0.2263         |\n|$GNS .26 - Genius Group is down 50% on Financing NEWS at .35! GAP in chart to fill? $PLAY $NKLA $INO $DKNG $PTON $WKHS $SPAQ $JCPNQ $BA $BBIG $ABVC $CDIO $NEXI $AMZN $TSLA $WMT $TGT $NVDA $SPY $GLD $EBAY $AAPL $FB $TWTR $GS $S $GOOG $DIS $IBM $MSFT                              |0.0            |\n|Live Screen Sharing Session was Lit I called out each and every play in real-time. Those on that call can attest to it $SPY $QQQ $VIX $AAPL $MSFT $NVDA $TSLA $META $GOOG $SNOW $ENPH $AMD $BABA $UPST $COST $WMT $NFLX $AMZN $BTC #BTC $GOLD #GOLD $ABNB $INTC $BA $HD $LULU $SPX    |0.6369         |\n|$SPX This is exactly why I do what I do Sharing moments like I did today on Screen Sharing Session and live trading with members. Fulfilling... $SPY $QQQ $VIX $AAPL $MSFT $NVDA $TSLA $META $GOOG $SNOW $ENPH $AMD $BABA $UPST $COST $WMT $NFLX $AMZN $BTC #BTC $GOLD #GOLD $ABNB    |0.7964         |\n|$ELTP - Elite Pharma launches generic Adderall into an ADHD drug shortage including Adderall... Stock is soaring. $NKLA $INO $DKNG $PTON $WKHS $SPAQ $JCPNQ $BA $BBIG $ABVC $CDIO $NEXI $AMZN $TSLA $WMT $TGT $NVDA $SPY $GLD $EBAY $AAPL $FB $TWTR $GS $S $GOOG $DIS $IBM $MSFT      |-0.25          |\n|Nvidia Insider Trading Alert 🚨 Mark Stevens, the 2nd largest Nvidia shareholder and board member since 2008, just sold roughly $30 million worth of $NVDA shares. This is his largest sale since June when he sold $50 million worth of shares.                                      |0.8126         |\n|$NVDA 677 is my next target year out                                                                                                                                                                                                                                                  |0.0            |\n|AI is forecast to quickly transform the healthcare industry, aiding in analytics, diagnosis, data management, communication, and drug discovery. The AI in healthcare market is expected to reach $208 billion by 2030, expanding at a 36.4% CAGR from $32B in 2024. $PLTR $NVDA…     |0.0258         |\n|$10M+ Worth of $NVDA Calls Bought Today 🚨 🧪 NVDA 500C 1/19 Track Real Time Unusual Options Activity Using AI. Signup This Weekend &amp; Save 15% Using Code 'BETA15' 🏷️👉                                                                                                          |0.6249         |\n|This weekend I will be covering $TSLA and $NVDA 🔥🔥, short- and longterm outlook @ Marketmate (link in bio 👆), stay tuned!                                                                                                                                                          |0.0            |\n|$SPX Puts went bonkers. Called out this play in realtime and gave exact entries to those who joined live trading and screen sharing with me $SPY $QQQ $VIX $AAPL $MSFT $NVDA $TSLA $META $GOOG $SNOW $ENPH $AMD $BABA $UPST $COST $WMT $NFLX $AMZN $BTC #BTC $GOLD $ABNB $INTC $TGT   |0.6757         |\n|Heart warming and drive to keep on putting in the work! Hardwork pays off. Like they say, Hardwork beats Talent when Talent doesn't work hard Discord link in bio $SPY $QQQ $VIX $AAPL $MSFT $NVDA $TSLA $META $GOOG $SNOW $ENPH $AMD $SPX $AMZN $BTC #BTC $GOLD $MARA $COIN $RIOT    |0.8897         |\n|\"We think those numbers continue to go up. But let's be clear, if you miss your numbers with this level of expectations, you're going to have a Tesla-like event\" says @altcap’s Brad Gerstner @bg2Pod He shares his AI plays and what to watch from Mag7 earnings. $NVDA $MSFT $SMCI |0.7783         |\n+--------------------------------------------------------------------------------------------------------------------------------------------------------------------------------------------------------------------------------------------------------------------------------------+---------------+\nonly showing top 20 rows\n\n"
          ]
        }
      ],
      "metadata": {},
      "source": [
        "import re\n",
        "from pyspark.sql.functions import udf, col\n",
        "from pyspark.sql.types import StringType, DoubleType\n",
        "import nltk\n",
        "from nltk.sentiment import SentimentIntensityAnalyzer\n",
        "\n",
        "# Download VADER (only once needed)\n",
        "nltk.download('vader_lexicon')\n",
        "\n",
        "# Initialize VADER\n",
        "sia = SentimentIntensityAnalyzer()\n",
        "\n",
        "# Clean text function (remove URLs and extra spaces)\n",
        "def clean_text(text):\n",
        "    if text:\n",
        "        text = re.sub(r'https?://\\S+', '', text)  # Remove any URL\n",
        "        text = re.sub(r'\\s+', ' ', text).strip()  # Remove extra spaces\n",
        "        return text\n",
        "    return None\n",
        "\n",
        "# Create UDF for cleaning\n",
        "clean_text_udf = udf(clean_text, StringType())\n",
        "\n",
        "# (1) Overwrite full_text column with cleaned text\n",
        "tweet_df = tweet_df.withColumn(\"full_text\", clean_text_udf(col(\"full_text\")))\n",
        "\n",
        "# (2) Define UDF for sentiment analysis\n",
        "@udf(returnType=DoubleType())\n",
        "def sentiment_score(text):\n",
        "    if text:\n",
        "        score = sia.polarity_scores(text)[\"compound\"]\n",
        "        return score\n",
        "    return None\n",
        "\n",
        "# (3) Add sentiment_score column\n",
        "tweet_df = tweet_df.withColumn(\"sentiment_score\", sentiment_score(col(\"full_text\")))\n",
        "\n",
        "# (4) Preview\n",
        "tweet_df.select(\"full_text\", \"sentiment_score\").show(truncate=False)"
      ]
    },
    {
      "cell_type": "code",
      "execution_count": 6,
      "outputs": [
        {
          "output_type": "display_data",
          "data": {
            "application/vnd.livy.statement-meta+json": {
              "spark_pool": "stockPredict",
              "statement_id": 17,
              "statement_ids": [
                17
              ],
              "state": "finished",
              "livy_statement_state": "available",
              "spark_jobs": null,
              "session_id": "37",
              "normalized_state": "finished",
              "queued_time": "2025-05-05T21:09:56.8409215Z",
              "session_start_time": null,
              "execution_start_time": "2025-05-05T21:09:56.8421374Z",
              "execution_finish_time": "2025-05-05T21:09:59.4410099Z",
              "parent_msg_id": "6eaa2509-f008-48a4-af23-e6473692813b"
            },
            "text/plain": "StatementMeta(stockPredict, 37, 17, Finished, Available, Finished)"
          },
          "metadata": {}
        },
        {
          "output_type": "stream",
          "name": "stdout",
          "text": [
            "+---------------------+------------------+---------------------+-------------------+------------------+-----------------------+-----------+--------+--------------+-------------+\n|tweet_created_at_date|interaction_score |favorite_ratio       |reply_ratio        |credibility_score |follower_activity_score|day_of_week|is_viral|is_new_account|is_influencer|\n+---------------------+------------------+---------------------+-------------------+------------------+-----------------------+-----------+--------+--------------+-------------+\n|2024-01-12           |1769.3000000000002|0.0010951639863969105|1.0                |25.73498824890335 |2.3876864887581424     |Friday     |false   |false         |true         |\n|2024-01-12           |138.7             |0.00558659217877095  |1.5                |23.50250293151443 |2.859204095880847      |Friday     |false   |false         |true         |\n|2024-01-12           |97.80000000000001 |0.0021645021645021645|0.5                |14.588538181483406|7.336828309305374      |Friday     |false   |true          |true         |\n|2024-01-12           |1410.9            |0.009368994234465087 |0.47058823529411764|25.894561223566498|16.179880079946702     |Friday     |false   |false         |true         |\n|2024-01-12           |61.6              |0.007380073800738007 |0.5                |15.11310246055664 |3.9591100420926035     |Friday     |false   |false         |true         |\n|2024-01-12           |5409.700000000001 |8.076330716351752E-4 |1.4                |15.083783046051611|3.2192857142857143     |Friday     |true    |false         |true         |\n|2024-01-12           |1272.4            |0.009749180182575557 |1.0                |17.538952216267685|11.545562130177515     |Friday     |false   |false         |true         |\n|2024-01-12           |433.20000000000005|0.002886002886002886 |0.3333333333333333 |25.289444651739224|5.363061968408262      |Friday     |false   |false         |true         |\n|2024-01-12           |76.2              |0.0026917900403768506|0.0                |18.626293285593178|7.188959143968872      |Friday     |false   |false         |false        |\n|2024-01-12           |290.9             |0.0010760401721664275|2.0                |9.341065096159573 |5.9864209505334625     |Friday     |false   |false         |false        |\n+---------------------+------------------+---------------------+-------------------+------------------+-----------------------+-----------+--------+--------------+-------------+\nonly showing top 10 rows\n\n"
          ]
        }
      ],
      "metadata": {},
      "source": [
        "from pyspark.sql.functions import (\n",
        "    col, log1p, when, datediff, current_date, expr, dayofweek, date_format\n",
        ")\n",
        "\n",
        "# 1. interaction_score = (retweet + reply + quote + favorite) / view\n",
        "tweet_df = tweet_df.withColumn(\n",
        "    \"interaction_score\",\n",
        "    (col(\"view_count\").cast(\"int\") * 0.1 +\n",
        "     col(\"retweet_count\") * 2 +\n",
        "     col(\"reply_count\") * 1.5 +\n",
        "     col(\"quote_count\") * 1.2 +\n",
        "     col(\"favorite_count\") * 1.0)\n",
        ")\n",
        "\n",
        "# 2. favorite_ratio = favorite / view\n",
        "tweet_df = tweet_df.withColumn(\n",
        "    \"favorite_ratio\",\n",
        "    col(\"favorite_count\") / (col(\"view_count\").cast(\"double\") + 1)\n",
        ")\n",
        "\n",
        "# 3. reply_ratio = reply / (retweet + 1)\n",
        "tweet_df = tweet_df.withColumn(\n",
        "    \"reply_ratio\",\n",
        "    col(\"reply_count\") / (col(\"retweet_count\") + 1)\n",
        ")\n",
        "\n",
        "# 4. account_age_days = current_date - account_created_at\n",
        "tweet_df = tweet_df.withColumn(\n",
        "    \"account_age_days\",\n",
        "    datediff(current_date(), col(\"account_created_at\"))\n",
        ")\n",
        "\n",
        "# 5. credibility_score = is_blue_verified * 2 + log(followers + 1) + (account_age_days / 365)\n",
        "tweet_df = tweet_df.withColumn(\n",
        "    \"credibility_score\",\n",
        "    (when(col(\"is_blue_verified\") == True, 2).otherwise(0)) +\n",
        "    log1p(col(\"followers_count\")) +\n",
        "    (col(\"account_age_days\") / 365)\n",
        ")\n",
        "\n",
        "# 6. follower_activity_score = (favourites + media + listed) / account_age_days\n",
        "tweet_df = tweet_df.withColumn(\n",
        "    \"follower_activity_score\",\n",
        "    (col(\"account_favourites_count\") + col(\"media_count\") + col(\"listed_count\")) / (col(\"account_age_days\") + 1)  # avoid divide-by-zero\n",
        ")\n",
        "\n",
        "# 7. day_of_week\n",
        "tweet_df = tweet_df.withColumn(\n",
        "    \"day_of_week\",\n",
        "    date_format(col(\"tweet_created_at_date\"), \"EEEE\")  # e.g., \"Monday\", \"Tuesday\"\n",
        ")\n",
        "\n",
        "# 8. is_viral\n",
        "tweet_df = tweet_df.withColumn(\n",
        "    \"is_viral\",\n",
        "    when(col(\"interaction_score\") > 2000, True).otherwise(False)\n",
        ")\n",
        "\n",
        "# 9. is_new_account\n",
        "tweet_df = tweet_df.withColumn(\n",
        "    \"is_new_account\",\n",
        "    when(datediff(col(\"tweet_created_at_date\"), col(\"account_created_at\")) < 365, True).otherwise(False)\n",
        ")\n",
        "\n",
        "# 10. is_influencer\n",
        "tweet_df = tweet_df.withColumn(\n",
        "    \"is_influencer\",\n",
        "    when((col(\"followers_count\") > 130000) | (col(\"is_blue_verified\") == True), True).otherwise(False)\n",
        ")\n",
        "\n",
        "# Preview\n",
        "tweet_df.select(\n",
        "    \"tweet_created_at_date\",\"interaction_score\", \"favorite_ratio\", \"reply_ratio\",\n",
        "    \"credibility_score\", \"follower_activity_score\", \"day_of_week\",\n",
        "    \"is_viral\", \"is_new_account\", \"is_influencer\"\n",
        ").show(10, truncate=False)\n",
        ""
      ]
    },
    {
      "cell_type": "code",
      "execution_count": 7,
      "outputs": [
        {
          "output_type": "display_data",
          "data": {
            "application/vnd.livy.statement-meta+json": {
              "spark_pool": "stockPredict",
              "statement_id": 18,
              "statement_ids": [
                18
              ],
              "state": "finished",
              "livy_statement_state": "available",
              "spark_jobs": null,
              "session_id": "37",
              "normalized_state": "finished",
              "queued_time": "2025-05-05T21:10:01.626447Z",
              "session_start_time": null,
              "execution_start_time": "2025-05-05T21:10:01.6278019Z",
              "execution_finish_time": "2025-05-05T21:10:06.9076933Z",
              "parent_msg_id": "2c192d67-1f0b-4b82-81a9-e430b52728f4"
            },
            "text/plain": "StatementMeta(stockPredict, 37, 18, Finished, Available, Finished)"
          },
          "metadata": {}
        },
        {
          "output_type": "stream",
          "name": "stdout",
          "text": [
            "+----------+---------------------+-----------+\n|is_holiday|tweet_created_at_date|day_of_week|\n+----------+---------------------+-----------+\n|false     |2024-01-12           |Friday     |\n|false     |2024-01-12           |Friday     |\n|false     |2024-01-12           |Friday     |\n|false     |2024-01-12           |Friday     |\n|false     |2024-01-12           |Friday     |\n|false     |2024-01-12           |Friday     |\n|false     |2024-01-12           |Friday     |\n|false     |2024-01-12           |Friday     |\n|false     |2024-01-12           |Friday     |\n|false     |2024-01-12           |Friday     |\n+----------+---------------------+-----------+\nonly showing top 10 rows\n\n"
          ]
        }
      ],
      "metadata": {},
      "source": [
        "# 11. is_holiday\n",
        "import pandas_market_calendars as mcal\n",
        "from pyspark.sql.functions import lit\n",
        "from pyspark.sql.types import DateType\n",
        "import pandas as pd\n",
        "\n",
        "# Get the NYSE calendar\n",
        "nyse = mcal.get_calendar('NYSE')\n",
        "\n",
        "# Get the official NYSE trading schedule (only trading days)\n",
        "schedule = nyse.schedule(start_date='2024-01-01', end_date='2025-12-31')\n",
        "trading_days = schedule.index.normalize()\n",
        "\n",
        "# Create a full date range for all days in that period\n",
        "all_days = pd.date_range(start='2024-01-01', end='2025-12-31', freq='D')\n",
        "\n",
        "# Holidays = all days - trading days\n",
        "holidays = all_days.difference(trading_days)\n",
        "\n",
        "# Convert to a DataFrame for Spark\n",
        "holidays_df = spark.createDataFrame(pd.DataFrame(holidays, columns=[\"holiday_date\"]))\n",
        "\n",
        "# Join to label each tweet as holiday or not\n",
        "tweet_df = tweet_df.join(\n",
        "    holidays_df,\n",
        "    tweet_df[\"tweet_created_at_date\"] == holidays_df[\"holiday_date\"],\n",
        "    how=\"left\"\n",
        ")\n",
        "\n",
        "# Fill nulls with False for non-holidays\n",
        "tweet_df = tweet_df.withColumn(\"is_holiday\", col(\"holiday_date\").isNotNull())\n",
        "\n",
        "# Drop helper column\n",
        "tweet_df = tweet_df.drop(\"holiday_date\")\n",
        "\n",
        "tweet_df.select(\n",
        "    \"is_holiday\", \"tweet_created_at_date\", \"day_of_week\"\n",
        ").show(10, truncate=False)"
      ]
    },
    {
      "cell_type": "code",
      "execution_count": 8,
      "outputs": [
        {
          "output_type": "display_data",
          "data": {
            "application/vnd.livy.statement-meta+json": {
              "spark_pool": "stockPredict",
              "statement_id": 19,
              "statement_ids": [
                19
              ],
              "state": "finished",
              "livy_statement_state": "available",
              "spark_jobs": null,
              "session_id": "37",
              "normalized_state": "finished",
              "queued_time": "2025-05-05T21:10:09.3158971Z",
              "session_start_time": null,
              "execution_start_time": "2025-05-05T21:10:09.3170149Z",
              "execution_finish_time": "2025-05-05T21:10:11.1847766Z",
              "parent_msg_id": "c34bb427-de3d-4217-b3b9-0c0e9fa06a6d"
            },
            "text/plain": "StatementMeta(stockPredict, 37, 19, Finished, Available, Finished)"
          },
          "metadata": {}
        },
        {
          "output_type": "execute_result",
          "data": {
            "text/plain": "331"
          },
          "execution_count": 15,
          "metadata": {}
        }
      ],
      "metadata": {
        "collapsed": false
      },
      "source": [
        "abfss_base_path = f\"abfss://{container}@{storage_account_name}.dfs.core.windows.net/\"\n",
        "stock_df = spark.read.parquet(f\"{abfss_base_path}Medallion/Silver/Stock_Volume_Silver/*\")\n",
        "stock_df.count()"
      ]
    },
    {
      "cell_type": "code",
      "execution_count": 9,
      "outputs": [
        {
          "output_type": "display_data",
          "data": {
            "application/vnd.livy.statement-meta+json": {
              "spark_pool": "stockPredict",
              "statement_id": 20,
              "statement_ids": [
                20
              ],
              "state": "finished",
              "livy_statement_state": "available",
              "spark_jobs": null,
              "session_id": "37",
              "normalized_state": "finished",
              "queued_time": "2025-05-05T21:10:35.1541898Z",
              "session_start_time": null,
              "execution_start_time": "2025-05-05T21:10:35.1553626Z",
              "execution_finish_time": "2025-05-05T21:10:35.3772539Z",
              "parent_msg_id": "c80ec9de-9fea-4f75-b353-d80af69f9d3c"
            },
            "text/plain": "StatementMeta(stockPredict, 37, 20, Finished, Available, Finished)"
          },
          "metadata": {}
        }
      ],
      "metadata": {},
      "source": [
        "from pyspark.sql.functions import to_timestamp, to_date, col\n",
        "\n",
        "# Step 1: Parse the string as timestamp first\n",
        "stock_df = stock_df.withColumn(\n",
        "    \"Date\",\n",
        "    to_timestamp(col(\"Date\"), \"yyyy-MM-dd HH:mm:ss\")\n",
        ")\n",
        "\n",
        "# Step 2: Cast that timestamp into a pure date (drop time part)\n",
        "stock_df = stock_df.withColumn(\n",
        "    \"Date\",\n",
        "    to_date(col(\"Date\"))\n",
        ")\n",
        ""
      ]
    },
    {
      "cell_type": "code",
      "execution_count": 11,
      "outputs": [
        {
          "output_type": "display_data",
          "data": {
            "application/vnd.livy.statement-meta+json": {
              "spark_pool": "stockPredict",
              "statement_id": 22,
              "statement_ids": [
                22
              ],
              "state": "finished",
              "livy_statement_state": "available",
              "spark_jobs": null,
              "session_id": "37",
              "normalized_state": "finished",
              "queued_time": "2025-05-05T21:12:17.5937952Z",
              "session_start_time": null,
              "execution_start_time": "2025-05-05T21:12:17.5949584Z",
              "execution_finish_time": "2025-05-05T21:12:18.7436615Z",
              "parent_msg_id": "f40d7c23-6c03-4b9a-874d-bdbf96af62d4"
            },
            "text/plain": "StatementMeta(stockPredict, 37, 22, Finished, Available, Finished)"
          },
          "metadata": {}
        },
        {
          "output_type": "display_data",
          "data": {
            "application/vnd.synapse.widget-view+json": {
              "widget_id": "34016a5a-4e60-480c-8fc6-bf73c41264bb",
              "widget_type": "Synapse.DataFrame"
            },
            "text/plain": "SynapseWidget(Synapse.DataFrame, 34016a5a-4e60-480c-8fc6-bf73c41264bb)"
          },
          "metadata": {}
        },
        {
          "output_type": "stream",
          "name": "stdout",
          "text": [
            "root\n |-- Date: date (nullable = true)\n |-- Close: double (nullable = true)\n |-- High: double (nullable = true)\n |-- Low: double (nullable = true)\n |-- Open: double (nullable = true)\n |-- Volume: integer (nullable = true)\n\n"
          ]
        }
      ],
      "metadata": {
        "collapsed": false
      },
      "source": [
        "display(stock_df.limit(10))\n",
        "stock_df.printSchema()"
      ]
    },
    {
      "cell_type": "code",
      "execution_count": 12,
      "outputs": [
        {
          "output_type": "display_data",
          "data": {
            "application/vnd.livy.statement-meta+json": {
              "spark_pool": "stockPredict",
              "statement_id": 23,
              "statement_ids": [
                23
              ],
              "state": "finished",
              "livy_statement_state": "available",
              "spark_jobs": null,
              "session_id": "37",
              "normalized_state": "finished",
              "queued_time": "2025-05-05T21:12:25.6301645Z",
              "session_start_time": null,
              "execution_start_time": "2025-05-05T21:12:25.6312612Z",
              "execution_finish_time": "2025-05-05T21:12:30.9029767Z",
              "parent_msg_id": "afb772e1-bea4-4d74-8a53-0b8488d2e2d6"
            },
            "text/plain": "StatementMeta(stockPredict, 37, 23, Finished, Available, Finished)"
          },
          "metadata": {}
        },
        {
          "output_type": "display_data",
          "data": {
            "application/vnd.synapse.widget-view+json": {
              "widget_id": "cee59a37-9633-4815-8c31-40cf5b4f4b39",
              "widget_type": "Synapse.DataFrame"
            },
            "text/plain": "SynapseWidget(Synapse.DataFrame, cee59a37-9633-4815-8c31-40cf5b4f4b39)"
          },
          "metadata": {}
        }
      ],
      "metadata": {
        "collapsed": false
      },
      "source": [
        "# Step 1: Perform the left join\n",
        "tweet_df = tweet_df.join(\n",
        "    stock_df.select(\n",
        "        col(\"Date\").alias(\"match_date\"),\n",
        "        col(\"Volume\").alias(\"current_volume\"),\n",
        "        col(\"Open\").alias(\"current_open\"),\n",
        "        col(\"Close\").alias(\"current_close\"),\n",
        "        col(\"High\").alias(\"current_high\"),\n",
        "        col(\"Low\").alias(\"current_low\")\n",
        "    ),\n",
        "    tweet_df[\"tweet_created_at_date\"] == col(\"match_date\"),\n",
        "    how=\"left\"\n",
        ")\n",
        "\n",
        "# Step 2: Clean up (remove the helper match_date column)\n",
        "tweet_df = tweet_df.drop(\"match_date\")\n",
        "display(tweet_df.limit(10))"
      ]
    },
    {
      "cell_type": "code",
      "execution_count": 13,
      "outputs": [
        {
          "output_type": "display_data",
          "data": {
            "application/vnd.livy.statement-meta+json": {
              "spark_pool": "stockPredict",
              "statement_id": 24,
              "statement_ids": [
                24
              ],
              "state": "finished",
              "livy_statement_state": "available",
              "spark_jobs": null,
              "session_id": "37",
              "normalized_state": "finished",
              "queued_time": "2025-05-05T21:13:02.6916282Z",
              "session_start_time": null,
              "execution_start_time": "2025-05-05T21:13:02.6928236Z",
              "execution_finish_time": "2025-05-05T21:13:23.4932203Z",
              "parent_msg_id": "2dd859c7-12d8-4998-95b1-9b8e39206541"
            },
            "text/plain": "StatementMeta(stockPredict, 37, 24, Finished, Available, Finished)"
          },
          "metadata": {}
        },
        {
          "output_type": "stream",
          "name": "stdout",
          "text": [
            "+--------------------------------+---------------------+-------------------+\n|user_id                         |tweet_created_at_date|next_available_date|\n+--------------------------------+---------------------+-------------------+\n|VXNlcjoxMTM1NzM4OTYyMjcyODIxMjYx|2024-01-01           |2024-01-02 00:00:00|\n|VXNlcjoxMzE5MzM0MjgwNDUyMDY3MzMx|2024-01-01           |2024-01-02 00:00:00|\n|VXNlcjo3MjE4NTY5MA==            |2024-01-01           |2024-01-02 00:00:00|\n|VXNlcjoxNjM5MDU4Nzk3MzQ3MDgyMjQw|2024-01-01           |2024-01-02 00:00:00|\n|VXNlcjo5NTAxMDMzNDc0OTkwMjg0ODA=|2024-01-01           |2024-01-02 00:00:00|\n|VXNlcjoyMjEzNjM4MTg=            |2024-01-01           |2024-01-02 00:00:00|\n|VXNlcjo5NDI2Mjc3MjA=            |2024-01-01           |2024-01-02 00:00:00|\n|VXNlcjoxMjEzNzA5MDY=            |2024-01-01           |2024-01-02 00:00:00|\n|VXNlcjoxNDIzNzE3NjUxMDcxODQwMjU4|2024-01-01           |2024-01-02 00:00:00|\n|VXNlcjoxNDc2Mjg1NzU4NjQyMjYyMDIx|2024-01-01           |2024-01-02 00:00:00|\n|VXNlcjoyMzMyNDcxMDQ=            |2024-01-01           |2024-01-02 00:00:00|\n|VXNlcjo1Mzg2MDEzODE=            |2024-01-01           |2024-01-02 00:00:00|\n|VXNlcjoyODgwMzE0OA==            |2024-01-01           |2024-01-02 00:00:00|\n|VXNlcjoyMjY4MjE5MDcz            |2024-01-01           |2024-01-02 00:00:00|\n|VXNlcjoxMzA3MzQxODE2NTU1OTk5MjMy|2024-01-01           |2024-01-02 00:00:00|\n|VXNlcjo5MjY3OTUyNDIzODQyOTc5ODU=|2024-01-01           |2024-01-02 00:00:00|\n|VXNlcjoxMzUxMjM2MzA2MTk0NTk5OTQ0|2024-01-01           |2024-01-02 00:00:00|\n|VXNlcjoyMTc2NDQyOA==            |2024-01-01           |2024-01-02 00:00:00|\n|VXNlcjoxNzE2Mjk1OTY=            |2024-01-01           |2024-01-02 00:00:00|\n|VXNlcjo5OTkzODM1Mg==            |2024-01-01           |2024-01-02 00:00:00|\n+--------------------------------+---------------------+-------------------+\nonly showing top 20 rows\n\n"
          ]
        }
      ],
      "metadata": {},
      "source": [
        "from pyspark.sql.functions import col, min as spark_min\n",
        "from pyspark.sql.window import Window\n",
        "\n",
        "# Step 1: Prepare stock calendar (all valid trading dates)\n",
        "trading_days_df = spark.createDataFrame(\n",
        "    pd.DataFrame(schedule.index.normalize(), columns=[\"trading_date\"])\n",
        ")\n",
        "\n",
        "# Step 2: Join to get the next trading date after each tweet\n",
        "# Add a dummy key to do a cross join where trading_date > tweet_date\n",
        "tweet_df = tweet_df.withColumn(\"join_key\", lit(1))\n",
        "trading_days_df = trading_days_df.withColumn(\"join_key\", lit(1))\n",
        "\n",
        "joined_df = tweet_df.join(\n",
        "    trading_days_df,\n",
        "    (tweet_df[\"join_key\"] == trading_days_df[\"join_key\"]) &\n",
        "    (trading_days_df[\"trading_date\"] > tweet_df[\"tweet_created_at_date\"])\n",
        ")\n",
        "\n",
        "# Step 3: Use window to pick the earliest valid trading date\n",
        "window_spec = Window.partitionBy(\"user_id\", \"tweet_created_at_date\").orderBy(\"trading_date\")\n",
        "\n",
        "# Pick first available trading day after tweet\n",
        "joined_df = joined_df.withColumn(\"next_available_date\", spark_min(\"trading_date\").over(window_spec))\n",
        "\n",
        "# Step 4: Drop extra rows to keep only the earliest match\n",
        "next_volume_df = joined_df.select(\n",
        "    \"user_id\", \"tweet_created_at_date\", \"next_available_date\"\n",
        ").dropDuplicates([\"user_id\", \"tweet_created_at_date\"])\n",
        "\n",
        "#Preview\n",
        "next_volume_df.select(\n",
        "    \"user_id\",\n",
        "    \"tweet_created_at_date\",\n",
        "    \"next_available_date\"\n",
        ").orderBy(\"tweet_created_at_date\").show(20, truncate=False)"
      ]
    },
    {
      "cell_type": "code",
      "execution_count": 14,
      "outputs": [
        {
          "output_type": "display_data",
          "data": {
            "application/vnd.livy.statement-meta+json": {
              "spark_pool": "stockPredict",
              "statement_id": 25,
              "statement_ids": [
                25
              ],
              "state": "finished",
              "livy_statement_state": "available",
              "spark_jobs": null,
              "session_id": "37",
              "normalized_state": "finished",
              "queued_time": "2025-05-05T21:13:12.7544545Z",
              "session_start_time": null,
              "execution_start_time": "2025-05-05T21:13:23.5033674Z",
              "execution_finish_time": "2025-05-05T21:13:28.1544949Z",
              "parent_msg_id": "781cb371-e9b9-4867-8531-961ab7f858b5"
            },
            "text/plain": "StatementMeta(stockPredict, 37, 25, Finished, Available, Finished)"
          },
          "metadata": {}
        },
        {
          "output_type": "stream",
          "name": "stdout",
          "text": [
            "+---------------------+-------------------+---------------------+\n|tweet_created_at_date|next_available_date|next_available_volume|\n+---------------------+-------------------+---------------------+\n|2024-01-12           |2024-01-16 00:00:00|449580000            |\n|2024-01-12           |2024-01-16 00:00:00|449580000            |\n|2024-01-12           |2024-01-16 00:00:00|449580000            |\n|2024-01-12           |2024-01-16 00:00:00|449580000            |\n|2024-01-12           |2024-01-16 00:00:00|449580000            |\n|2024-01-12           |2024-01-16 00:00:00|449580000            |\n|2024-01-12           |2024-01-16 00:00:00|449580000            |\n|2024-01-12           |2024-01-16 00:00:00|449580000            |\n|2024-01-12           |2024-01-16 00:00:00|449580000            |\n|2024-01-12           |2024-01-16 00:00:00|449580000            |\n|2024-01-12           |2024-01-16 00:00:00|449580000            |\n|2024-01-12           |2024-01-16 00:00:00|449580000            |\n|2024-01-12           |2024-01-16 00:00:00|449580000            |\n|2024-01-12           |2024-01-16 00:00:00|449580000            |\n|2024-01-12           |2024-01-16 00:00:00|449580000            |\n|2024-01-12           |2024-01-16 00:00:00|449580000            |\n|2024-01-12           |2024-01-16 00:00:00|449580000            |\n|2024-01-12           |2024-01-16 00:00:00|449580000            |\n|2024-01-12           |2024-01-16 00:00:00|449580000            |\n|2024-01-12           |2024-01-16 00:00:00|449580000            |\n+---------------------+-------------------+---------------------+\nonly showing top 20 rows\n\n"
          ]
        }
      ],
      "metadata": {},
      "source": [
        "# Step 5: Join stock volume based on matched date\n",
        "stock_df = stock_df.withColumn(\"stock_date\", col(\"Date\").cast(\"date\"))\n",
        "next_volume_df = next_volume_df.join(\n",
        "    stock_df.select(col(\"stock_date\"), col(\"Volume\").alias(\"next_available_volume\")),\n",
        "    next_volume_df[\"next_available_date\"] == col(\"stock_date\"),\n",
        "    how=\"left\"\n",
        ").drop(\"stock_date\")\n",
        "\n",
        "# Step 6: Join back into tweet_df\n",
        "tweet_df = tweet_df.drop(\"join_key\")\n",
        "tweet_df = tweet_df.join(next_volume_df, on=[\"user_id\", \"tweet_created_at_date\"], how=\"left\")\n",
        "\n",
        "#Preview\n",
        "tweet_df.filter(col(\"tweet_created_at_date\") == \"2024-01-12\") \\\n",
        "    .select(\n",
        "        \"tweet_created_at_date\",\n",
        "        \"next_available_date\",\n",
        "        \"next_available_volume\"\n",
        "    ).show(truncate=False)"
      ]
    },
    {
      "cell_type": "code",
      "execution_count": 15,
      "outputs": [
        {
          "output_type": "display_data",
          "data": {
            "application/vnd.livy.statement-meta+json": {
              "spark_pool": "stockPredict",
              "statement_id": 26,
              "statement_ids": [
                26
              ],
              "state": "finished",
              "livy_statement_state": "available",
              "spark_jobs": null,
              "session_id": "37",
              "normalized_state": "finished",
              "queued_time": "2025-05-05T21:15:04.6446906Z",
              "session_start_time": null,
              "execution_start_time": "2025-05-05T21:15:04.6458423Z",
              "execution_finish_time": "2025-05-05T21:15:04.8691849Z",
              "parent_msg_id": "73669eeb-972b-46f6-82ef-96d09ca3942e"
            },
            "text/plain": "StatementMeta(stockPredict, 37, 26, Finished, Available, Finished)"
          },
          "metadata": {}
        }
      ],
      "metadata": {},
      "source": [
        "from pyspark.sql.functions import col\n",
        "\n",
        "tweet_df = tweet_df.filter(\n",
        "    (col(\"day_of_week\").isin(\"Saturday\", \"Sunday\") == False) &\n",
        "    (col(\"is_holiday\") == False)\n",
        ")"
      ]
    },
    {
      "cell_type": "code",
      "execution_count": 17,
      "outputs": [
        {
          "output_type": "display_data",
          "data": {
            "application/vnd.livy.statement-meta+json": {
              "spark_pool": "stockPredict",
              "statement_id": 28,
              "statement_ids": [
                28
              ],
              "state": "finished",
              "livy_statement_state": "available",
              "spark_jobs": null,
              "session_id": "37",
              "normalized_state": "finished",
              "queued_time": "2025-05-05T21:15:48.7016481Z",
              "session_start_time": null,
              "execution_start_time": "2025-05-05T21:15:48.7027685Z",
              "execution_finish_time": "2025-05-05T21:15:48.9156802Z",
              "parent_msg_id": "9c811338-75e7-4fa3-b3b5-63a1c317864d"
            },
            "text/plain": "StatementMeta(stockPredict, 37, 28, Finished, Available, Finished)"
          },
          "metadata": {}
        }
      ],
      "metadata": {},
      "source": [
        "tweet_df = tweet_df.drop(\"Is_weekend\", \"is_holiday\", \"next_available_date\")"
      ]
    },
    {
      "cell_type": "code",
      "execution_count": 18,
      "outputs": [
        {
          "output_type": "display_data",
          "data": {
            "application/vnd.livy.statement-meta+json": {
              "spark_pool": "stockPredict",
              "statement_id": 29,
              "statement_ids": [
                29
              ],
              "state": "finished",
              "livy_statement_state": "available",
              "spark_jobs": null,
              "session_id": "37",
              "normalized_state": "finished",
              "queued_time": "2025-05-05T21:15:51.2925891Z",
              "session_start_time": null,
              "execution_start_time": "2025-05-05T21:15:51.2937942Z",
              "execution_finish_time": "2025-05-05T21:15:51.8722153Z",
              "parent_msg_id": "8bce102b-56d0-40e1-80e5-346c5225e8df"
            },
            "text/plain": "StatementMeta(stockPredict, 37, 29, Finished, Available, Finished)"
          },
          "metadata": {}
        },
        {
          "output_type": "stream",
          "name": "stdout",
          "text": [
            "+---------------------+-----------+--------------+------------+\n|tweet_created_at_date|day_of_week|current_volume|current_open|\n+---------------------+-----------+--------------+------------+\n+---------------------+-----------+--------------+------------+\n\n"
          ]
        }
      ],
      "metadata": {},
      "source": [
        "tweet_df.filter(col(\"is_holiday\") == True) \\\n",
        "    .select(\"tweet_created_at_date\", \"day_of_week\", \"current_volume\", \"current_open\") \\\n",
        "    .orderBy(\"tweet_created_at_date\") \\\n",
        "    .show(10, truncate=False)"
      ]
    },
    {
      "cell_type": "code",
      "execution_count": 19,
      "outputs": [
        {
          "output_type": "display_data",
          "data": {
            "application/vnd.livy.statement-meta+json": {
              "spark_pool": "stockPredict",
              "statement_id": 30,
              "statement_ids": [
                30
              ],
              "state": "finished",
              "livy_statement_state": "available",
              "spark_jobs": null,
              "session_id": "37",
              "normalized_state": "finished",
              "queued_time": "2025-05-05T21:15:57.7902657Z",
              "session_start_time": null,
              "execution_start_time": "2025-05-05T21:15:57.7914097Z",
              "execution_finish_time": "2025-05-05T21:15:58.0063891Z",
              "parent_msg_id": "89ac5404-b862-4ded-aa00-c39a7bb5de36"
            },
            "text/plain": "StatementMeta(stockPredict, 37, 30, Finished, Available, Finished)"
          },
          "metadata": {}
        }
      ],
      "metadata": {},
      "source": [
        "from pyspark.sql.functions import lit\n",
        "\n",
        "# Fill specific nulls with chosen default values\n",
        "tweet_df = tweet_df.fillna({\n",
        "    \"view_count\": 0,\n",
        "    \"interaction_score\": 0.0,\n",
        "    \"favorite_ratio\": 0.0,\n",
        "    \"tweet_possibly_sensitive\": False\n",
        "})"
      ]
    },
    {
      "cell_type": "code",
      "execution_count": 20,
      "outputs": [
        {
          "output_type": "display_data",
          "data": {
            "application/vnd.livy.statement-meta+json": {
              "spark_pool": "stockPredict",
              "statement_id": 31,
              "statement_ids": [
                31
              ],
              "state": "finished",
              "livy_statement_state": "available",
              "spark_jobs": null,
              "session_id": "37",
              "normalized_state": "finished",
              "queued_time": "2025-05-05T21:16:00.4611438Z",
              "session_start_time": null,
              "execution_start_time": "2025-05-05T21:16:00.4622491Z",
              "execution_finish_time": "2025-05-05T21:16:02.3204207Z",
              "parent_msg_id": "33c4ec6c-f593-4133-9fb7-88c76812c1bc"
            },
            "text/plain": "StatementMeta(stockPredict, 37, 31, Finished, Available, Finished)"
          },
          "metadata": {}
        },
        {
          "output_type": "stream",
          "name": "stdout",
          "text": [
            "+---------------------+\n|tweet_created_at_date|\n+---------------------+\n+---------------------+\n\n"
          ]
        }
      ],
      "metadata": {},
      "source": [
        "tweet_df.filter(col(\"current_volume\").isNull()) \\\n",
        "    .select(\"tweet_created_at_date\") \\\n",
        "    .distinct() \\\n",
        "    .orderBy(\"tweet_created_at_date\") \\\n",
        "    .show(truncate=False)"
      ]
    },
    {
      "cell_type": "code",
      "execution_count": 21,
      "outputs": [
        {
          "output_type": "display_data",
          "data": {
            "application/vnd.livy.statement-meta+json": {
              "spark_pool": "stockPredict",
              "statement_id": 32,
              "statement_ids": [
                32
              ],
              "state": "finished",
              "livy_statement_state": "available",
              "spark_jobs": null,
              "session_id": "37",
              "normalized_state": "finished",
              "queued_time": "2025-05-05T21:16:06.8531211Z",
              "session_start_time": null,
              "execution_start_time": "2025-05-05T21:16:06.8542349Z",
              "execution_finish_time": "2025-05-05T21:16:40.1513793Z",
              "parent_msg_id": "b3932857-2612-4b7b-a4cb-d0b38c83be18"
            },
            "text/plain": "StatementMeta(stockPredict, 37, 32, Finished, Available, Finished)"
          },
          "metadata": {}
        }
      ],
      "metadata": {},
      "source": [
        "# Save aggregated data as single files\n",
        "abfss_base_path = f\"abfss://{container}@{storage_account_name}.dfs.core.windows.net/Medallion/Gold/\"\n",
        "tweet_df.coalesce(1).write.mode(\"overwrite\").parquet(f\"{abfss_base_path}/dataset_updated\")"
      ]
    }
  ]
}