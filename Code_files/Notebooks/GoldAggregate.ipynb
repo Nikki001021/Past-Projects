{
  "nbformat": 4,
  "nbformat_minor": 2,
  "cells": [
    {
      "cell_type": "code",
      "execution_count": 1,
      "outputs": [
        {
          "output_type": "display_data",
          "data": {
            "application/vnd.livy.statement-meta+json": {
              "spark_pool": "stockPredict",
              "statement_id": 2,
              "statement_ids": [
                2
              ],
              "state": "finished",
              "livy_statement_state": "available",
              "spark_jobs": null,
              "session_id": "42",
              "normalized_state": "finished",
              "queued_time": "2025-05-06T00:05:22.1610548Z",
              "session_start_time": "2025-05-06T00:05:22.1621361Z",
              "execution_start_time": "2025-05-06T00:08:43.5546169Z",
              "execution_finish_time": "2025-05-06T00:08:55.0239858Z",
              "parent_msg_id": "b42cc1a5-accc-4ab1-af4f-40d4ec73f30b"
            },
            "text/plain": "StatementMeta(stockPredict, 42, 2, Finished, Available, Finished)"
          },
          "metadata": {}
        }
      ],
      "metadata": {
        "collapsed": false
      },
      "source": [
        "# Set up the configuration for accessing the storage account\n",
        "storage_account_name = \"team12storage\"\n",
        "storage_account_key = \"ZdpCqxRwuQbJ8fUYN7EMbTLjOyj+I9rI6IjcQ/uU+4aFG46TQqjiz1Piq9SWKGkkjszo3r94l26M+AStR5PvPg==\"\n",
        "container = \"team12blobcontainer\"\n",
        "abfss_base_path = f\"abfss://{container}@{storage_account_name}.dfs.core.windows.net/\"\n",
        "df = spark.read.parquet(f\"{abfss_base_path}Medallion/Gold/dataset_updated/\")"
      ]
    },
    {
      "cell_type": "code",
      "execution_count": 2,
      "outputs": [
        {
          "output_type": "display_data",
          "data": {
            "application/vnd.livy.statement-meta+json": {
              "spark_pool": "stockPredict",
              "statement_id": 3,
              "statement_ids": [
                3
              ],
              "state": "finished",
              "livy_statement_state": "available",
              "spark_jobs": null,
              "session_id": "36",
              "normalized_state": "finished",
              "queued_time": "2025-05-05T20:56:26.655164Z",
              "session_start_time": null,
              "execution_start_time": "2025-05-05T20:56:26.656387Z",
              "execution_finish_time": "2025-05-05T20:57:01.6881997Z",
              "parent_msg_id": "87eda92e-b4d5-42c2-84cd-5922dc2a49ae"
            },
            "text/plain": "StatementMeta(stockPredict, 36, 3, Finished, Available, Finished)"
          },
          "metadata": {}
        },
        {
          "output_type": "display_data",
          "data": {
            "application/vnd.synapse.widget-view+json": {
              "widget_id": "b686570b-ab08-427f-a9d0-517a740ac74a",
              "widget_type": "Synapse.DataFrame"
            },
            "text/plain": "SynapseWidget(Synapse.DataFrame, b686570b-ab08-427f-a9d0-517a740ac74a)"
          },
          "metadata": {}
        }
      ],
      "metadata": {
        "collapsed": false
      },
      "source": [
        "from pyspark.sql.functions import max as spark_max, avg, first\n",
        "user_profile_df = df.groupBy(\"user_id\").agg(\n",
        "    first(\"is_blue_verified\").alias(\"is_blue_verified\"),\n",
        "    first(\"account_created_at\").alias(\"account_created_at\"),\n",
        "    spark_max(\"account_age_days\").alias(\"account_age_days\"),\n",
        "    first(\"is_new_account\").alias(\"is_new_account\"),\n",
        "    first(\"is_influencer\").alias(\"is_influencer\"),\n",
        "    spark_max(\"followers_count\").alias(\"followers_count\"),\n",
        "    spark_max(\"friends_count\").alias(\"friends_count\"),\n",
        "    spark_max(\"account_favourites_count\").alias(\"account_favourites_count\"),\n",
        "    spark_max(\"listed_count\").alias(\"listed_count\"),\n",
        "    spark_max(\"media_count\").alias(\"media_count\"),\n",
        "    avg(\"credibility_score\").alias(\"credibility_score\"),\n",
        "    avg(\"follower_activity_score\").alias(\"follower_activity_score\")\n",
        ")\n",
        "\n",
        "display(user_profile_df.limit(10))"
      ]
    },
    {
      "cell_type": "code",
      "execution_count": 3,
      "outputs": [
        {
          "output_type": "display_data",
          "data": {
            "application/vnd.livy.statement-meta+json": {
              "spark_pool": "stockPredict",
              "statement_id": 4,
              "statement_ids": [
                4
              ],
              "state": "finished",
              "livy_statement_state": "available",
              "spark_jobs": null,
              "session_id": "36",
              "normalized_state": "finished",
              "queued_time": "2025-05-05T20:57:29.629879Z",
              "session_start_time": null,
              "execution_start_time": "2025-05-05T20:57:29.6311841Z",
              "execution_finish_time": "2025-05-05T20:57:32.5081424Z",
              "parent_msg_id": "9def4534-172d-4bdd-8978-8262f42bbbd9"
            },
            "text/plain": "StatementMeta(stockPredict, 36, 4, Finished, Available, Finished)"
          },
          "metadata": {}
        },
        {
          "output_type": "display_data",
          "data": {
            "application/vnd.synapse.widget-view+json": {
              "widget_id": "5603d0f7-c1e7-4f66-bb90-c8a03538e4dc",
              "widget_type": "Synapse.DataFrame"
            },
            "text/plain": "SynapseWidget(Synapse.DataFrame, 5603d0f7-c1e7-4f66-bb90-c8a03538e4dc)"
          },
          "metadata": {}
        }
      ],
      "metadata": {
        "collapsed": false
      },
      "source": [
        "from pyspark.sql.functions import avg, sum as spark_sum, count, col\n",
        "\n",
        "daily_tweet_summary = df.groupBy(\"tweet_created_at_date\").agg(\n",
        "    count(\"*\").alias(\"total_tweets\"),\n",
        "    avg(\"sentiment_score\").alias(\"avg_sentiment\"),\n",
        "    avg(\"interaction_score\").alias(\"avg_interaction_score\"),\n",
        "    avg(\"favorite_ratio\").alias(\"avg_favorite_ratio\"),\n",
        "    avg(\"reply_ratio\").alias(\"avg_reply_ratio\"),\n",
        "    spark_sum(col(\"is_viral\").cast(\"int\")).alias(\"total_viral_tweet\"),\n",
        "    avg(\"follower_activity_score\").alias(\"avg_activity_score\"),\n",
        "    avg(\"credibility_score\").alias(\"avg_credibility_score\"),\n",
        "    avg(\"followers_count\").alias(\"avg_followers\")\n",
        "\n",
        ")\n",
        "display(daily_tweet_summary.limit(10))"
      ]
    },
    {
      "cell_type": "code",
      "execution_count": 2,
      "outputs": [
        {
          "output_type": "display_data",
          "data": {
            "application/vnd.livy.statement-meta+json": {
              "spark_pool": "stockPredict",
              "statement_id": 3,
              "statement_ids": [
                3
              ],
              "state": "finished",
              "livy_statement_state": "available",
              "spark_jobs": null,
              "session_id": "42",
              "normalized_state": "finished",
              "queued_time": "2025-05-06T00:08:58.289601Z",
              "session_start_time": null,
              "execution_start_time": "2025-05-06T00:08:58.2909144Z",
              "execution_finish_time": "2025-05-06T00:09:03.6798637Z",
              "parent_msg_id": "d9eadf3d-f636-406c-890e-46ab59e7886e"
            },
            "text/plain": "StatementMeta(stockPredict, 42, 3, Finished, Available, Finished)"
          },
          "metadata": {}
        }
      ],
      "metadata": {
        "collapsed": false
      },
      "source": [
        "predicted_df = spark.read.parquet(f\"{abfss_base_path}Prediction/Batch/data/\")"
      ]
    },
    {
      "cell_type": "code",
      "execution_count": 4,
      "outputs": [
        {
          "output_type": "display_data",
          "data": {
            "application/vnd.livy.statement-meta+json": {
              "spark_pool": "stockPredict",
              "statement_id": 5,
              "statement_ids": [
                5
              ],
              "state": "finished",
              "livy_statement_state": "available",
              "spark_jobs": null,
              "session_id": "42",
              "normalized_state": "finished",
              "queued_time": "2025-05-06T00:09:33.3720268Z",
              "session_start_time": null,
              "execution_start_time": "2025-05-06T00:09:33.3732421Z",
              "execution_finish_time": "2025-05-06T00:09:51.6571586Z",
              "parent_msg_id": "bd777208-96ff-461a-a7e5-4e5e8b854b1e"
            },
            "text/plain": "StatementMeta(stockPredict, 42, 5, Finished, Available, Finished)"
          },
          "metadata": {}
        },
        {
          "output_type": "display_data",
          "data": {
            "application/vnd.synapse.widget-view+json": {
              "widget_id": "f87f4450-7380-4fe3-a71e-b225312352ba",
              "widget_type": "Synapse.DataFrame"
            },
            "text/plain": "SynapseWidget(Synapse.DataFrame, f87f4450-7380-4fe3-a71e-b225312352ba)"
          },
          "metadata": {}
        }
      ],
      "metadata": {
        "collapsed": false
      },
      "source": [
        "from pyspark.sql.functions import avg, sum as spark_sum, count, col\n",
        "market_summary_per_day = df.groupBy(\"tweet_created_at_date\").agg(\n",
        "    avg(\"current_open\").alias(\"current_open\"),\n",
        "    avg(\"current_close\").alias(\"current_close\"),\n",
        "    avg(\"current_high\").alias(\"current_high\"),\n",
        "    avg(\"current_low\").alias(\"current_low\"),\n",
        "    avg(\"current_volume\").alias(\"current_volume\"),\n",
        "    avg(\"next_available_volume\").alias(\"actual_volume\")\n",
        ")\n",
        "display(market_summary_per_day.limit(10))"
      ]
    },
    {
      "cell_type": "code",
      "execution_count": 5,
      "outputs": [
        {
          "output_type": "display_data",
          "data": {
            "application/vnd.livy.statement-meta+json": {
              "spark_pool": "stockPredict",
              "statement_id": 6,
              "statement_ids": [
                6
              ],
              "state": "finished",
              "livy_statement_state": "available",
              "spark_jobs": null,
              "session_id": "42",
              "normalized_state": "finished",
              "queued_time": "2025-05-06T00:09:49.1731072Z",
              "session_start_time": null,
              "execution_start_time": "2025-05-06T00:09:51.667972Z",
              "execution_finish_time": "2025-05-06T00:09:55.612065Z",
              "parent_msg_id": "9750e665-9b90-400d-8402-19771713e8a6"
            },
            "text/plain": "StatementMeta(stockPredict, 42, 6, Finished, Available, Finished)"
          },
          "metadata": {}
        },
        {
          "output_type": "display_data",
          "data": {
            "application/vnd.synapse.widget-view+json": {
              "widget_id": "0bd79ece-2c8d-4b9e-8c3d-2c084384fdd2",
              "widget_type": "Synapse.DataFrame"
            },
            "text/plain": "SynapseWidget(Synapse.DataFrame, 0bd79ece-2c8d-4b9e-8c3d-2c084384fdd2)"
          },
          "metadata": {}
        }
      ],
      "metadata": {
        "collapsed": false
      },
      "source": [
        "predicted_df = predicted_df.withColumnRenamed(\"predicted_next_day_volume\", \"predicted_volume\")\n",
        "market_summary_per_day = market_summary_per_day.join(\n",
        "    predicted_df.select(\"tweet_created_at_date\", \"predicted_volume\"),\n",
        "    on=\"tweet_created_at_date\",\n",
        "    how=\"left\"\n",
        ")\n",
        "display(market_summary_per_day.limit(10))"
      ]
    },
    {
      "cell_type": "code",
      "execution_count": 7,
      "outputs": [
        {
          "output_type": "display_data",
          "data": {
            "application/vnd.livy.statement-meta+json": {
              "spark_pool": "stockPredict",
              "statement_id": 8,
              "statement_ids": [
                8
              ],
              "state": "finished",
              "livy_statement_state": "available",
              "spark_jobs": null,
              "session_id": "35",
              "normalized_state": "finished",
              "queued_time": "2025-05-05T10:20:46.0369426Z",
              "session_start_time": null,
              "execution_start_time": "2025-05-05T10:20:46.038155Z",
              "execution_finish_time": "2025-05-05T10:20:46.2503555Z",
              "parent_msg_id": "c0cf8360-fd59-4afb-8d65-e96f8d381cae"
            },
            "text/plain": "StatementMeta(stockPredict, 35, 8, Finished, Available, Finished)"
          },
          "metadata": {}
        }
      ],
      "metadata": {
        "collapsed": false
      },
      "source": [
        "viral_tweet_log = df.filter(col(\"is_viral\") == True).select(\n",
        "    \"user_id\", \"tweet_created_at_date\", \"full_text\",\n",
        "    \"sentiment_score\", \"interaction_score\", \"followers_count\",\n",
        "    \"favorite_count\", \"retweet_count\", \"reply_count\", \"view_count\", \"credibility_score\"\n",
        ")\n",
        "display(viral_tweet_log.limit(10))"
      ]
    },
    {
      "cell_type": "code",
      "execution_count": 8,
      "outputs": [
        {
          "output_type": "display_data",
          "data": {
            "application/vnd.livy.statement-meta+json": {
              "spark_pool": "stockPredict",
              "statement_id": 9,
              "statement_ids": [
                9
              ],
              "state": "finished",
              "livy_statement_state": "available",
              "spark_jobs": null,
              "session_id": "35",
              "normalized_state": "finished",
              "queued_time": "2025-05-05T10:20:47.6902968Z",
              "session_start_time": null,
              "execution_start_time": "2025-05-05T10:20:47.6914873Z",
              "execution_finish_time": "2025-05-05T10:20:47.9035098Z",
              "parent_msg_id": "ae36902c-b3e9-4020-b155-f6b9dcd79c48"
            },
            "text/plain": "StatementMeta(stockPredict, 35, 9, Finished, Available, Finished)"
          },
          "metadata": {}
        }
      ],
      "metadata": {
        "collapsed": false
      },
      "source": [
        "from pyspark.sql.functions import sum as spark_sum, count, col, countDistinct\n",
        "\n",
        "user_type_distribution_per_day = df.groupBy(\"tweet_created_at_date\").agg(\n",
        "    spark_sum(col(\"is_influencer\").cast(\"int\")).alias(\"influencer_tweet_count\"),\n",
        "    spark_sum(col(\"is_new_account\").cast(\"int\")).alias(\"new_account_tweet_count\"),\n",
        "    spark_sum(col(\"is_blue_verified\").cast(\"int\")).alias(\"blue_verified_tweet_count\"),\n",
        "    count(\"*\").alias(\"total_tweets\"),\n",
        "    countDistinct(\"user_id\").alias(\"distinct_users\"),\n",
        "    avg(\"account_age_days\").alias(\"avg_account_age\")\n",
        ")\n",
        "display(user_type_distribution_per_day.limit(10))"
      ]
    },
    {
      "cell_type": "code",
      "execution_count": 9,
      "outputs": [
        {
          "output_type": "display_data",
          "data": {
            "application/vnd.livy.statement-meta+json": {
              "spark_pool": "stockPredict",
              "statement_id": 10,
              "statement_ids": [
                10
              ],
              "state": "finished",
              "livy_statement_state": "available",
              "spark_jobs": null,
              "session_id": "35",
              "normalized_state": "finished",
              "queued_time": "2025-05-05T10:20:49.5427434Z",
              "session_start_time": null,
              "execution_start_time": "2025-05-05T10:20:49.543979Z",
              "execution_finish_time": "2025-05-05T10:20:49.7497653Z",
              "parent_msg_id": "4a332684-0115-4994-82d9-2a0596927e27"
            },
            "text/plain": "StatementMeta(stockPredict, 35, 10, Finished, Available, Finished)"
          },
          "metadata": {}
        }
      ],
      "metadata": {
        "collapsed": false
      },
      "source": [
        "from pyspark.sql.functions import desc\n",
        "\n",
        "# Total tweets per user\n",
        "top_users_by_tweet_count = df.groupBy(\"user_id\").agg(\n",
        "    count(\"*\").alias(\"tweet_count\")\n",
        ").orderBy(desc(\"tweet_count\"))\n",
        "\n",
        "# Viral tweets per user\n",
        "top_users_by_viral_tweets = df.filter(col(\"is_viral\") == True).groupBy(\"user_id\").agg(\n",
        "    count(\"*\").alias(\"viral_tweet_count\")\n",
        ").orderBy(desc(\"viral_tweet_count\"))\n",
        "\n",
        "display(top_users_by_tweet_count.limit(10))\n",
        "display(top_users_by_viral_tweets.limit(10))"
      ]
    },
    {
      "cell_type": "code",
      "execution_count": 10,
      "outputs": [
        {
          "output_type": "display_data",
          "data": {
            "application/vnd.livy.statement-meta+json": {
              "spark_pool": "stockPredict",
              "statement_id": 11,
              "statement_ids": [
                11
              ],
              "state": "finished",
              "livy_statement_state": "available",
              "spark_jobs": null,
              "session_id": "35",
              "normalized_state": "finished",
              "queued_time": "2025-05-05T10:20:51.0262047Z",
              "session_start_time": null,
              "execution_start_time": "2025-05-05T10:20:51.027426Z",
              "execution_finish_time": "2025-05-05T10:20:51.2357014Z",
              "parent_msg_id": "e1681c05-7fc6-4f6e-b206-bae3aabb3cef"
            },
            "text/plain": "StatementMeta(stockPredict, 35, 11, Finished, Available, Finished)"
          },
          "metadata": {}
        }
      ],
      "metadata": {
        "collapsed": false
      },
      "source": [
        "from pyspark.sql.functions import month, year\n",
        "\n",
        "influencer_monthly_engagement = df.filter(col(\"is_influencer\") == True).groupBy(\n",
        "    year(\"tweet_created_at_date\").alias(\"year\"),\n",
        "    month(\"tweet_created_at_date\").alias(\"month\")\n",
        ").agg(\n",
        "    count(\"*\").alias(\"influencer_tweet_count\"),\n",
        "    avg(\"sentiment_score\").alias(\"avg_sentiment_score\"),\n",
        "    avg(\"interaction_score\").alias(\"avg_interaction\"),\n",
        "    countDistinct(\"user_id\").alias(\"distinct_influencers\")\n",
        ")\n",
        "display(influencer_monthly_engagement.limit(10))"
      ]
    },
    {
      "cell_type": "code",
      "execution_count": 6,
      "outputs": [
        {
          "output_type": "display_data",
          "data": {
            "application/vnd.livy.statement-meta+json": {
              "spark_pool": "stockPredict",
              "statement_id": 7,
              "statement_ids": [
                7
              ],
              "state": "finished",
              "livy_statement_state": "available",
              "spark_jobs": null,
              "session_id": "42",
              "normalized_state": "finished",
              "queued_time": "2025-05-06T00:10:22.4668023Z",
              "session_start_time": null,
              "execution_start_time": "2025-05-06T00:10:22.4680376Z",
              "execution_finish_time": "2025-05-06T00:10:27.8148467Z",
              "parent_msg_id": "387410d7-bede-4f92-b799-168922f87155"
            },
            "text/plain": "StatementMeta(stockPredict, 42, 7, Finished, Available, Finished)"
          },
          "metadata": {}
        }
      ],
      "metadata": {},
      "source": [
        "# Save aggregated data as single files\n",
        "abfss_base_path = f\"abfss://{container}@{storage_account_name}.dfs.core.windows.net/Medallion/Gold\"\n",
        "daily_tweet_summary.coalesce(1).write.mode(\"overwrite\").parquet(f\"{abfss_base_path}/daily_tweet_summary\")\n",
        "viral_tweet_log.coalesce(1).write.mode(\"overwrite\").parquet(f\"{abfss_base_path}/viral_tweet_log\")\n",
        "user_type_distribution_per_day.coalesce(1).write.mode(\"overwrite\").parquet(f\"{abfss_base_path}/user_type_distribution_per_day\")\n",
        "top_users_by_tweet_count.coalesce(1).write.mode(\"overwrite\").parquet(f\"{abfss_base_path}/top_users_by_tweet_count\")\n",
        "top_users_by_viral_tweets.coalesce(1).write.mode(\"overwrite\").parquet(f\"{abfss_base_path}/top_users_by_viral_tweets\")\n",
        "influencer_monthly_engagement.coalesce(1).write.mode(\"overwrite\").parquet(f\"{abfss_base_path}/influencer_monthly_engagement\")\n",
        "market_summary_per_day.coalesce(1).write.mode(\"overwrite\").parquet(f\"{abfss_base_path}/market_summary_per_day\")\n",
        "user_profile_df.coalesce(1).write.mode(\"overwrite\").parquet(f\"{abfss_base_path}/user_profile\")"
      ]
    }
  ],
  "metadata": {
    "description": null,
    "save_output": true,
    "language_info": {
      "name": "python"
    },
    "synapse_widget": {
      "version": "0.1",
      "state": {
        "b686570b-ab08-427f-a9d0-517a740ac74a": {
          "type": "Synapse.DataFrame",
          "sync_state": {
            "table": {
              "rows": [
                {
                  "0": "VXNlcjoxNTYyMTU0MTY2NzM4NDYwNjcy",
                  "1": "true",
                  "2": "2022-08-23",
                  "3": "985",
                  "4": "false",
                  "5": "true",
                  "6": "1297",
                  "7": "283",
                  "8": "5350",
                  "9": "11",
                  "10": "427",
                  "11": "11.866439321302744",
                  "12": "5.870182555780933"
                },
                {
                  "0": "VXNlcjo4MTcwMDc3MjU2NjYyNDI1NjE=",
                  "1": "true",
                  "2": "2017-01-05",
                  "3": "3041",
                  "4": "false",
                  "5": "true",
                  "6": "342848",
                  "7": "503",
                  "8": "10480",
                  "9": "2881",
                  "10": "12796",
                  "11": "23.0765493285557",
                  "12": "8.59861932938856"
                },
                {
                  "0": "VXNlcjoxNTY3Mzk1ODkzNjc0MTI3MzYx",
                  "1": "false",
                  "2": "2022-09-07",
                  "3": "970",
                  "4": "false",
                  "5": "false",
                  "6": "1250",
                  "7": "266",
                  "8": "4051",
                  "9": "3",
                  "10": "1352",
                  "11": "9.788433076871689",
                  "12": "5.56745623069001"
                },
                {
                  "0": "VXNlcjoyODAwODY1NTc=",
                  "1": "true",
                  "2": "2011-04-10",
                  "3": "5138",
                  "4": "false",
                  "5": "true",
                  "6": "3165",
                  "7": "2027",
                  "8": "28625",
                  "9": "35",
                  "10": "1932",
                  "11": "24.136620663345397",
                  "12": "5.952909126289161"
                },
                {
                  "0": "VXNlcjo5MzEzNTQ2ODY=",
                  "1": "true",
                  "2": "2012-11-07",
                  "3": "4561",
                  "4": "false",
                  "5": "true",
                  "6": "5013",
                  "7": "148",
                  "8": "22176",
                  "9": "37",
                  "10": "22084",
                  "11": "23.015680228222408",
                  "12": "9.709995615957913"
                },
                {
                  "0": "VXNlcjoxMjU0NDM5MDY2Mzg2NDc3MDU2",
                  "1": "true",
                  "2": "2020-04-26",
                  "3": "1834",
                  "4": "false",
                  "5": "true",
                  "6": "128109",
                  "7": "43",
                  "8": "53156",
                  "9": "1733",
                  "10": "10946",
                  "11": "18.785294277274694",
                  "12": "35.87738419618529"
                },
                {
                  "0": "VXNlcjoxMzQ5MTkxMTU5MDEzMzg4Mjkw",
                  "1": "true",
                  "2": "2021-01-13",
                  "3": "1573",
                  "4": "false",
                  "5": "true",
                  "6": "24688",
                  "7": "312",
                  "8": "28598",
                  "9": "230",
                  "10": "12918",
                  "11": "16.423661615698833",
                  "12": "26.522236340533674"
                },
                {
                  "0": "VXNlcjoxMzc0MzgzNDIxNjk1MjY2ODIw",
                  "1": "false",
                  "2": "2021-03-23",
                  "3": "1503",
                  "4": "false",
                  "5": "false",
                  "6": "11626",
                  "7": "55",
                  "8": "2175",
                  "9": "40",
                  "10": "4540",
                  "11": "13.478807467439378",
                  "12": "4.491356382978723"
                },
                {
                  "0": "VXNlcjoxNDIyNDgzMTkyMDQxMTk3NTcw",
                  "1": "true",
                  "2": "2021-08-03",
                  "3": "1370",
                  "4": "false",
                  "5": "true",
                  "6": "17887",
                  "7": "278",
                  "8": "3575",
                  "9": "114",
                  "10": "3953",
                  "11": "15.545254128527493",
                  "12": "5.574033552151714"
                },
                {
                  "0": "VXNlcjoxNzAzMjcwNzM1Mjk5NjI5MDU2",
                  "1": "true",
                  "2": "2023-09-17",
                  "3": "595",
                  "4": "false",
                  "5": "true",
                  "6": "4234",
                  "7": "5364",
                  "8": "426706",
                  "9": "9",
                  "10": "3684",
                  "11": "11.98103943799618",
                  "12": "722.1459731543624"
                }
              ],
              "schema": [
                {
                  "key": "0",
                  "name": "user_id",
                  "type": "string"
                },
                {
                  "key": "1",
                  "name": "is_blue_verified",
                  "type": "boolean"
                },
                {
                  "key": "2",
                  "name": "account_created_at",
                  "type": "date"
                },
                {
                  "key": "3",
                  "name": "account_age_days",
                  "type": "int"
                },
                {
                  "key": "4",
                  "name": "is_new_account",
                  "type": "boolean"
                },
                {
                  "key": "5",
                  "name": "is_influencer",
                  "type": "boolean"
                },
                {
                  "key": "6",
                  "name": "followers_count",
                  "type": "int"
                },
                {
                  "key": "7",
                  "name": "friends_count",
                  "type": "int"
                },
                {
                  "key": "8",
                  "name": "account_favourites_count",
                  "type": "int"
                },
                {
                  "key": "9",
                  "name": "listed_count",
                  "type": "int"
                },
                {
                  "key": "10",
                  "name": "media_count",
                  "type": "int"
                },
                {
                  "key": "11",
                  "name": "credibility_score",
                  "type": "double"
                },
                {
                  "key": "12",
                  "name": "follower_activity_score",
                  "type": "double"
                }
              ],
              "truncated": false
            },
            "isSummary": false,
            "language": "scala",
            "wranglerEntryContext": {
              "dataframeType": "pyspark"
            }
          },
          "persist_state": {
            "view": {
              "type": "details",
              "tableOptions": {},
              "chartOptions": {
                "chartType": "bar",
                "aggregationType": "sum",
                "categoryFieldKeys": [
                  "0"
                ],
                "seriesFieldKeys": [
                  "3"
                ],
                "isStacked": false
              }
            }
          }
        },
        "5603d0f7-c1e7-4f66-bb90-c8a03538e4dc": {
          "type": "Synapse.DataFrame",
          "sync_state": {
            "table": {
              "rows": [
                {
                  "0": "2025-05-01",
                  "1": "50",
                  "2": "0.10517600000000002",
                  "3": "778.4780000000002",
                  "4": "0.008539818172372062",
                  "5": "1.7228492063492065",
                  "6": "2",
                  "7": "31.327728148249147",
                  "8": "18.05366223631249",
                  "9": "25050.5"
                }
              ],
              "schema": [
                {
                  "key": "0",
                  "name": "tweet_created_at_date",
                  "type": "date"
                },
                {
                  "key": "1",
                  "name": "total_tweets",
                  "type": "bigint"
                },
                {
                  "key": "2",
                  "name": "avg_sentiment",
                  "type": "double"
                },
                {
                  "key": "3",
                  "name": "avg_interaction_score",
                  "type": "double"
                },
                {
                  "key": "4",
                  "name": "avg_favorite_ratio",
                  "type": "double"
                },
                {
                  "key": "5",
                  "name": "avg_reply_ratio",
                  "type": "double"
                },
                {
                  "key": "6",
                  "name": "total_viral_tweet",
                  "type": "bigint"
                },
                {
                  "key": "7",
                  "name": "avg_activity_score",
                  "type": "double"
                },
                {
                  "key": "8",
                  "name": "avg_credibility_score",
                  "type": "double"
                },
                {
                  "key": "9",
                  "name": "avg_followers",
                  "type": "double"
                }
              ],
              "truncated": false
            },
            "isSummary": false,
            "language": "scala",
            "wranglerEntryContext": {
              "dataframeType": "pyspark"
            }
          },
          "persist_state": {
            "view": {
              "type": "details",
              "tableOptions": {},
              "chartOptions": {
                "chartType": "bar",
                "aggregationType": "sum",
                "categoryFieldKeys": [
                  "0"
                ],
                "seriesFieldKeys": [
                  "1"
                ],
                "isStacked": false
              }
            }
          }
        },
        "f87f4450-7380-4fe3-a71e-b225312352ba": {
          "type": "Synapse.DataFrame",
          "sync_state": {
            "table": {
              "rows": [
                {
                  "0": "2024-09-18",
                  "1": "115.87135202544073",
                  "2": "113.35176086425781",
                  "3": "117.68105834506784",
                  "4": "113.20178347448338",
                  "5": "3.103189E8",
                  "6": "2.935064E8"
                },
                {
                  "0": "2024-08-27",
                  "1": "125.01920259136355",
                  "2": "128.26840209960938",
                  "3": "129.16817432295764",
                  "4": "123.84948497148307",
                  "5": "3.031346E8",
                  "6": "4.481011E8"
                },
                {
                  "0": "2024-05-30",
                  "1": "114.61232962234536",
                  "2": "110.46369171142578",
                  "3": "115.78094422890754",
                  "4": "109.62696874788848",
                  "5": "4.8735E8",
                  "6": "6.13263E8"
                },
                {
                  "0": "2024-06-12",
                  "1": "123.02967165119689",
                  "2": "125.16914367675781",
                  "3": "126.84872997628881",
                  "4": "122.53979453852531",
                  "5": "2.99595E8",
                  "6": "2.607045E8"
                },
                {
                  "0": "2024-02-05",
                  "1": "68.19939012424165",
                  "2": "69.30597686767578",
                  "3": "69.47091584987542",
                  "4": "67.17977633836091",
                  "5": "6.80078E8",
                  "6": "6.83111E8"
                },
                {
                  "0": "2024-06-04",
                  "1": "115.67799408835347",
                  "2": "116.39875030517578",
                  "3": "116.56169877793215",
                  "4": "114.00753771578104",
                  "5": "4.03324E8",
                  "6": "5.28402E8"
                },
                {
                  "0": "2024-10-24",
                  "1": "140.79735837298594",
                  "2": "140.38742065429688",
                  "3": "141.32727190930711",
                  "4": "138.43773733610345",
                  "5": "1.723549E8",
                  "6": "2.051221E8"
                },
                {
                  "0": "2024-11-25",
                  "1": "141.96716401462592",
                  "2": "135.9981231689453",
                  "3": "142.02715192160392",
                  "4": "135.79815839357286",
                  "5": "3.449419E8",
                  "6": "1.902877E8"
                },
                {
                  "0": "2025-04-17",
                  "1": "104.44999694824219",
                  "2": "101.48999786376953",
                  "3": "104.47000122070312",
                  "4": "100.05000305175781",
                  "5": "2.908334E8",
                  "6": "2.885011E8"
                },
                {
                  "0": "2025-02-05",
                  "1": "121.74880228525987",
                  "2": "124.81851959228516",
                  "3": "124.98850212428803",
                  "4": "120.74889426826618",
                  "5": "2.622308E8",
                  "6": "2.514836E8"
                }
              ],
              "schema": [
                {
                  "key": "0",
                  "name": "tweet_created_at_date",
                  "type": "date"
                },
                {
                  "key": "1",
                  "name": "current_open",
                  "type": "double"
                },
                {
                  "key": "2",
                  "name": "current_close",
                  "type": "double"
                },
                {
                  "key": "3",
                  "name": "current_high",
                  "type": "double"
                },
                {
                  "key": "4",
                  "name": "current_low",
                  "type": "double"
                },
                {
                  "key": "5",
                  "name": "current_volume",
                  "type": "double"
                },
                {
                  "key": "6",
                  "name": "actual_volume",
                  "type": "double"
                }
              ],
              "truncated": false
            },
            "isSummary": false,
            "language": "scala",
            "wranglerEntryContext": {
              "dataframeType": "pyspark"
            }
          },
          "persist_state": {
            "view": {
              "type": "details",
              "tableOptions": {},
              "chartOptions": {
                "chartType": "bar",
                "aggregationType": "sum",
                "categoryFieldKeys": [
                  "0"
                ],
                "seriesFieldKeys": [
                  "1"
                ],
                "isStacked": false
              }
            }
          }
        },
        "0bd79ece-2c8d-4b9e-8c3d-2c084384fdd2": {
          "type": "Synapse.DataFrame",
          "sync_state": {
            "table": {
              "rows": [
                {
                  "0": "2025-05-01",
                  "1": "113.08000183105469",
                  "2": "111.61000061035156",
                  "3": "114.94000244140625",
                  "4": "111.30000305175781",
                  "5": "2.361215E8",
                  "6": "1.897847E8",
                  "7": "2.5329969366747302E8"
                },
                {
                  "0": "2025-04-30",
                  "1": "104.47000122070312",
                  "2": "108.91999816894531",
                  "3": "108.91999816894531",
                  "4": "104.08000183105469",
                  "5": "2.350446E8",
                  "6": "2.361215E8",
                  "7": "2.7427723165322965E8"
                },
                {
                  "0": "2024-09-18",
                  "1": "115.87135202544073",
                  "2": "113.35176086425781",
                  "3": "117.68105834506784",
                  "4": "113.20178347448338",
                  "5": "3.103189E8",
                  "6": "2.935064E8",
                  "7": "2.942064560037932E8"
                },
                {
                  "0": "2024-08-27",
                  "1": "125.01920259136355",
                  "2": "128.26840209960938",
                  "3": "129.16817432295764",
                  "4": "123.84948497148307",
                  "5": "3.031346E8",
                  "6": "4.481011E8",
                  "7": "4.4507008269145966E8"
                },
                {
                  "0": "2024-05-30",
                  "1": "114.61232962234536",
                  "2": "110.46369171142578",
                  "3": "115.78094422890754",
                  "4": "109.62696874788848",
                  "5": "4.8735E8",
                  "6": "6.13263E8",
                  "7": "6.130840617727273E8"
                },
                {
                  "0": "2024-06-12",
                  "1": "123.02967165119689",
                  "2": "125.16914367675781",
                  "3": "126.84872997628881",
                  "4": "122.53979453852531",
                  "5": "2.99595E8",
                  "6": "2.607045E8",
                  "7": "2.632410060777157E8"
                },
                {
                  "0": "2024-02-05",
                  "1": "68.19939012424165",
                  "2": "69.30597686767578",
                  "3": "69.47091584987542",
                  "4": "67.17977633836091",
                  "5": "6.80078E8",
                  "6": "6.83111E8",
                  "7": "6.833220919080061E8"
                },
                {
                  "0": "2024-06-04",
                  "1": "115.67799408835347",
                  "2": "116.39875030517578",
                  "3": "116.56169877793215",
                  "4": "114.00753771578104",
                  "5": "4.03324E8",
                  "6": "5.28402E8",
                  "7": "5.2801425452854025E8"
                },
                {
                  "0": "2024-10-24",
                  "1": "140.79735837298594",
                  "2": "140.38742065429688",
                  "3": "141.32727190930711",
                  "4": "138.43773733610345",
                  "5": "1.723549E8",
                  "6": "2.051221E8",
                  "7": "2.0221998018491244E8"
                },
                {
                  "0": "2024-11-25",
                  "1": "141.96716401462592",
                  "2": "135.9981231689453",
                  "3": "142.02715192160392",
                  "4": "135.79815839357286",
                  "5": "3.449419E8",
                  "6": "1.902877E8",
                  "7": "1.9041578238252488E8"
                }
              ],
              "schema": [
                {
                  "key": "0",
                  "name": "tweet_created_at_date",
                  "type": "date"
                },
                {
                  "key": "1",
                  "name": "current_open",
                  "type": "double"
                },
                {
                  "key": "2",
                  "name": "current_close",
                  "type": "double"
                },
                {
                  "key": "3",
                  "name": "current_high",
                  "type": "double"
                },
                {
                  "key": "4",
                  "name": "current_low",
                  "type": "double"
                },
                {
                  "key": "5",
                  "name": "current_volume",
                  "type": "double"
                },
                {
                  "key": "6",
                  "name": "actual_volume",
                  "type": "double"
                },
                {
                  "key": "7",
                  "name": "predicted_volume",
                  "type": "double"
                }
              ],
              "truncated": false
            },
            "isSummary": false,
            "language": "scala",
            "wranglerEntryContext": {
              "dataframeType": "pyspark"
            }
          },
          "persist_state": {
            "view": {
              "type": "details",
              "tableOptions": {},
              "chartOptions": {
                "chartType": "bar",
                "aggregationType": "sum",
                "categoryFieldKeys": [
                  "0"
                ],
                "seriesFieldKeys": [
                  "1"
                ],
                "isStacked": false
              }
            }
          }
        }
      }
    }
  }
}